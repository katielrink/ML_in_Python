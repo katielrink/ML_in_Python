{
 "cells": [
  {
   "cell_type": "raw",
   "metadata": {
    "tags": []
   },
   "source": [
    "# Lab Assignment Three: Extending Logistic Regression"
   ]
  },
  {
   "cell_type": "markdown",
   "metadata": {},
   "source": [
    "by : Katie Rink, Yihan Zhou"
   ]
  },
  {
   "cell_type": "markdown",
   "metadata": {},
   "source": [
    "## Preparation and Overview"
   ]
  },
  {
   "cell_type": "markdown",
   "metadata": {},
   "source": [
    "### Business Case\n",
    "Whenever a person goes to apply for someone to trust them to be good for a large sum of money, such as a mortgage or a line of credit. To determine said reliability, the lender utilizes the credit score, which is dependent on a variety of factors. As the customer seeking a loan, it is important for them to understand what factors allow them to maximize their credit score. </br> \n",
    "\n",
    "Within the public domain of Kaggle, there is a large database that holds information on the known factors associated with credit score, and the final given credit score. It contains over 100000 datapoints, and it utilizes both numeric and categorical data. </br> \n",
    "\n",
    "We hope to dive into an analysis of the factors listed and create some simple visualizations to explain how their credit score is developed, and what trends good credit scores follow. Thus, the main prediction task here is to classify the credit score of a customer based on their credit-related attributes. This is of direct interest to third parties (such as companies) that want to a tool to reduce the efforts to classify their customer's credit scores. Consequently, for the prediction algorithm to be considered useful, it needs to be fairly accurate when applied to our test data in predicting the credit scores of the test customers. </br> \n",
    "\n",
    "More specifically, we would like to be able to have around or higher than an 80% accuracy, due to that being the generally considered average value of prediction from sites that perform similar functions. Additionally, we would prefer to focus on minimize false positives, especially with higher credit scores because that would mean we are falsely stating a person has a high credit score, when they do not. Since our goal is to aid consumers in maximizing their credit score, it is better to have customers assume and attempt to put more work into their credit score, rather than feel falsely secure and do nothing to improve their credit score.</br>\n",
    "\n",
    "Overally, we are looking for what factors most affect credit score, and the general trends credit scores tend to follow.\n",
    "\n",
    "Data Set : Credit Card Classification - https://www.kaggle.com/datasets/parisrohan/credit-score-classification?select=train.csv"
   ]
  },
  {
   "cell_type": "markdown",
   "metadata": {},
   "source": [
    "### Prepare Dataset"
   ]
  },
  {
   "cell_type": "code",
   "execution_count": 1,
   "metadata": {},
   "outputs": [],
   "source": [
    "import pandas as pd\n",
    "import numpy as np\n",
    "import matplotlib.pyplot as plt\n",
    "%matplotlib inline\n",
    "import seaborn as sns\n",
    "import matplotlib\n",
    "import warnings\n",
    "warnings.filterwarnings('ignore')\n",
    "from sklearn.model_selection import train_test_split\n",
    "from sklearn.linear_model import LogisticRegression as SKLogisticRegression\n",
    "from sklearn.metrics import accuracy_score\n",
    "from numpy.linalg import pinv\n",
    "from matplotlib.pyplot import figure\n",
    "from sklearn.model_selection import train_test_split\n",
    "import time\n",
    "\n",
    "data = pd.read_csv(\"../Data/credit_score/test.csv\")"
   ]
  },
  {
   "cell_type": "markdown",
   "metadata": {},
   "source": [
    "#### Data Description"
   ]
  },
  {
   "cell_type": "markdown",
   "metadata": {},
   "source": [
    "First, we want to look at what information we are looking at. Looking at the information provided below. We can see that Name, Monthly_Inhand_Salary,Type_of_Loan, Num_of_Delayed_Payment, Num_Credit_Inquiries, Credit_History_Age, and Amount_invested_monthly all contain null values. Therefore, when we move to clean the data, the first thing we need to do is replace or remove all null values, so we can gather accurate conclusions from our analysis"
   ]
  },
  {
   "cell_type": "code",
   "execution_count": 2,
   "metadata": {
    "scrolled": true
   },
   "outputs": [
    {
     "name": "stdout",
     "output_type": "stream",
     "text": [
      "<class 'pandas.core.frame.DataFrame'>\n",
      "RangeIndex: 50000 entries, 0 to 49999\n",
      "Data columns (total 27 columns):\n",
      "ID                          50000 non-null object\n",
      "Customer_ID                 50000 non-null object\n",
      "Month                       50000 non-null object\n",
      "Name                        44985 non-null object\n",
      "Age                         50000 non-null object\n",
      "SSN                         50000 non-null object\n",
      "Occupation                  50000 non-null object\n",
      "Annual_Income               50000 non-null object\n",
      "Monthly_Inhand_Salary       42502 non-null float64\n",
      "Num_Bank_Accounts           50000 non-null int64\n",
      "Num_Credit_Card             50000 non-null int64\n",
      "Interest_Rate               50000 non-null int64\n",
      "Num_of_Loan                 50000 non-null object\n",
      "Type_of_Loan                44296 non-null object\n",
      "Delay_from_due_date         50000 non-null int64\n",
      "Num_of_Delayed_Payment      46502 non-null object\n",
      "Changed_Credit_Limit        50000 non-null object\n",
      "Num_Credit_Inquiries        48965 non-null float64\n",
      "Credit_Mix                  50000 non-null object\n",
      "Outstanding_Debt            50000 non-null object\n",
      "Credit_Utilization_Ratio    50000 non-null float64\n",
      "Credit_History_Age          45530 non-null object\n",
      "Payment_of_Min_Amount       50000 non-null object\n",
      "Total_EMI_per_month         50000 non-null float64\n",
      "Amount_invested_monthly     47729 non-null object\n",
      "Payment_Behaviour           50000 non-null object\n",
      "Monthly_Balance             49438 non-null object\n",
      "dtypes: float64(4), int64(4), object(19)\n",
      "memory usage: 10.3+ MB\n"
     ]
    },
    {
     "data": {
      "text/plain": [
       "(50000, 27)"
      ]
     },
     "execution_count": 2,
     "metadata": {},
     "output_type": "execute_result"
    }
   ],
   "source": [
    "data.info()\n",
    "data.shape"
   ]
  },
  {
   "cell_type": "code",
   "execution_count": 3,
   "metadata": {},
   "outputs": [
    {
     "data": {
      "text/html": [
       "<div>\n",
       "<style scoped>\n",
       "    .dataframe tbody tr th:only-of-type {\n",
       "        vertical-align: middle;\n",
       "    }\n",
       "\n",
       "    .dataframe tbody tr th {\n",
       "        vertical-align: top;\n",
       "    }\n",
       "\n",
       "    .dataframe thead th {\n",
       "        text-align: right;\n",
       "    }\n",
       "</style>\n",
       "<table border=\"1\" class=\"dataframe\">\n",
       "  <thead>\n",
       "    <tr style=\"text-align: right;\">\n",
       "      <th></th>\n",
       "      <th>Monthly_Inhand_Salary</th>\n",
       "      <th>Num_Bank_Accounts</th>\n",
       "      <th>Num_Credit_Card</th>\n",
       "      <th>Interest_Rate</th>\n",
       "      <th>Delay_from_due_date</th>\n",
       "      <th>Num_Credit_Inquiries</th>\n",
       "      <th>Credit_Utilization_Ratio</th>\n",
       "      <th>Total_EMI_per_month</th>\n",
       "    </tr>\n",
       "  </thead>\n",
       "  <tbody>\n",
       "    <tr>\n",
       "      <th>count</th>\n",
       "      <td>42502.000000</td>\n",
       "      <td>50000.000000</td>\n",
       "      <td>50000.000000</td>\n",
       "      <td>50000.000000</td>\n",
       "      <td>50000.000000</td>\n",
       "      <td>48965.000000</td>\n",
       "      <td>50000.000000</td>\n",
       "      <td>50000.000000</td>\n",
       "    </tr>\n",
       "    <tr>\n",
       "      <th>mean</th>\n",
       "      <td>4182.004291</td>\n",
       "      <td>16.838260</td>\n",
       "      <td>22.921480</td>\n",
       "      <td>68.772640</td>\n",
       "      <td>21.052640</td>\n",
       "      <td>30.080200</td>\n",
       "      <td>32.279581</td>\n",
       "      <td>1491.304305</td>\n",
       "    </tr>\n",
       "    <tr>\n",
       "      <th>std</th>\n",
       "      <td>3174.109304</td>\n",
       "      <td>116.396848</td>\n",
       "      <td>129.314804</td>\n",
       "      <td>451.602363</td>\n",
       "      <td>14.860397</td>\n",
       "      <td>196.984121</td>\n",
       "      <td>5.106238</td>\n",
       "      <td>8595.647887</td>\n",
       "    </tr>\n",
       "    <tr>\n",
       "      <th>min</th>\n",
       "      <td>303.645417</td>\n",
       "      <td>-1.000000</td>\n",
       "      <td>0.000000</td>\n",
       "      <td>1.000000</td>\n",
       "      <td>-5.000000</td>\n",
       "      <td>0.000000</td>\n",
       "      <td>20.509652</td>\n",
       "      <td>0.000000</td>\n",
       "    </tr>\n",
       "    <tr>\n",
       "      <th>25%</th>\n",
       "      <td>1625.188333</td>\n",
       "      <td>3.000000</td>\n",
       "      <td>4.000000</td>\n",
       "      <td>8.000000</td>\n",
       "      <td>10.000000</td>\n",
       "      <td>4.000000</td>\n",
       "      <td>28.061040</td>\n",
       "      <td>32.222388</td>\n",
       "    </tr>\n",
       "    <tr>\n",
       "      <th>50%</th>\n",
       "      <td>3086.305000</td>\n",
       "      <td>6.000000</td>\n",
       "      <td>5.000000</td>\n",
       "      <td>13.000000</td>\n",
       "      <td>18.000000</td>\n",
       "      <td>7.000000</td>\n",
       "      <td>32.280390</td>\n",
       "      <td>74.733349</td>\n",
       "    </tr>\n",
       "    <tr>\n",
       "      <th>75%</th>\n",
       "      <td>5934.189094</td>\n",
       "      <td>7.000000</td>\n",
       "      <td>7.000000</td>\n",
       "      <td>20.000000</td>\n",
       "      <td>28.000000</td>\n",
       "      <td>10.000000</td>\n",
       "      <td>36.468591</td>\n",
       "      <td>176.157491</td>\n",
       "    </tr>\n",
       "    <tr>\n",
       "      <th>max</th>\n",
       "      <td>15204.633333</td>\n",
       "      <td>1798.000000</td>\n",
       "      <td>1499.000000</td>\n",
       "      <td>5799.000000</td>\n",
       "      <td>67.000000</td>\n",
       "      <td>2593.000000</td>\n",
       "      <td>48.540663</td>\n",
       "      <td>82398.000000</td>\n",
       "    </tr>\n",
       "  </tbody>\n",
       "</table>\n",
       "</div>"
      ],
      "text/plain": [
       "       Monthly_Inhand_Salary  Num_Bank_Accounts  Num_Credit_Card  \\\n",
       "count           42502.000000       50000.000000     50000.000000   \n",
       "mean             4182.004291          16.838260        22.921480   \n",
       "std              3174.109304         116.396848       129.314804   \n",
       "min               303.645417          -1.000000         0.000000   \n",
       "25%              1625.188333           3.000000         4.000000   \n",
       "50%              3086.305000           6.000000         5.000000   \n",
       "75%              5934.189094           7.000000         7.000000   \n",
       "max             15204.633333        1798.000000      1499.000000   \n",
       "\n",
       "       Interest_Rate  Delay_from_due_date  Num_Credit_Inquiries  \\\n",
       "count   50000.000000         50000.000000          48965.000000   \n",
       "mean       68.772640            21.052640             30.080200   \n",
       "std       451.602363            14.860397            196.984121   \n",
       "min         1.000000            -5.000000              0.000000   \n",
       "25%         8.000000            10.000000              4.000000   \n",
       "50%        13.000000            18.000000              7.000000   \n",
       "75%        20.000000            28.000000             10.000000   \n",
       "max      5799.000000            67.000000           2593.000000   \n",
       "\n",
       "       Credit_Utilization_Ratio  Total_EMI_per_month  \n",
       "count              50000.000000         50000.000000  \n",
       "mean                  32.279581          1491.304305  \n",
       "std                    5.106238          8595.647887  \n",
       "min                   20.509652             0.000000  \n",
       "25%                   28.061040            32.222388  \n",
       "50%                   32.280390            74.733349  \n",
       "75%                   36.468591           176.157491  \n",
       "max                   48.540663         82398.000000  "
      ]
     },
     "execution_count": 3,
     "metadata": {},
     "output_type": "execute_result"
    }
   ],
   "source": [
    "data.describe()"
   ]
  },
  {
   "cell_type": "code",
   "execution_count": 4,
   "metadata": {},
   "outputs": [
    {
     "data": {
      "text/html": [
       "<div>\n",
       "<style scoped>\n",
       "    .dataframe tbody tr th:only-of-type {\n",
       "        vertical-align: middle;\n",
       "    }\n",
       "\n",
       "    .dataframe tbody tr th {\n",
       "        vertical-align: top;\n",
       "    }\n",
       "\n",
       "    .dataframe thead th {\n",
       "        text-align: right;\n",
       "    }\n",
       "</style>\n",
       "<table border=\"1\" class=\"dataframe\">\n",
       "  <thead>\n",
       "    <tr style=\"text-align: right;\">\n",
       "      <th></th>\n",
       "      <th>ID</th>\n",
       "      <th>Customer_ID</th>\n",
       "      <th>Month</th>\n",
       "      <th>Name</th>\n",
       "      <th>Age</th>\n",
       "      <th>SSN</th>\n",
       "      <th>Occupation</th>\n",
       "      <th>Annual_Income</th>\n",
       "      <th>Monthly_Inhand_Salary</th>\n",
       "      <th>Num_Bank_Accounts</th>\n",
       "      <th>...</th>\n",
       "      <th>Num_Credit_Inquiries</th>\n",
       "      <th>Credit_Mix</th>\n",
       "      <th>Outstanding_Debt</th>\n",
       "      <th>Credit_Utilization_Ratio</th>\n",
       "      <th>Credit_History_Age</th>\n",
       "      <th>Payment_of_Min_Amount</th>\n",
       "      <th>Total_EMI_per_month</th>\n",
       "      <th>Amount_invested_monthly</th>\n",
       "      <th>Payment_Behaviour</th>\n",
       "      <th>Monthly_Balance</th>\n",
       "    </tr>\n",
       "  </thead>\n",
       "  <tbody>\n",
       "    <tr>\n",
       "      <th>0</th>\n",
       "      <td>0x160a</td>\n",
       "      <td>CUS_0xd40</td>\n",
       "      <td>September</td>\n",
       "      <td>Aaron Maashoh</td>\n",
       "      <td>23</td>\n",
       "      <td>821-00-0265</td>\n",
       "      <td>Scientist</td>\n",
       "      <td>19114.12</td>\n",
       "      <td>1824.843333</td>\n",
       "      <td>3</td>\n",
       "      <td>...</td>\n",
       "      <td>2022.0</td>\n",
       "      <td>Good</td>\n",
       "      <td>809.98</td>\n",
       "      <td>35.030402</td>\n",
       "      <td>22 Years and 9 Months</td>\n",
       "      <td>No</td>\n",
       "      <td>49.574949</td>\n",
       "      <td>236.64268203272135</td>\n",
       "      <td>Low_spent_Small_value_payments</td>\n",
       "      <td>186.26670208571772</td>\n",
       "    </tr>\n",
       "    <tr>\n",
       "      <th>1</th>\n",
       "      <td>0x160b</td>\n",
       "      <td>CUS_0xd40</td>\n",
       "      <td>October</td>\n",
       "      <td>Aaron Maashoh</td>\n",
       "      <td>24</td>\n",
       "      <td>821-00-0265</td>\n",
       "      <td>Scientist</td>\n",
       "      <td>19114.12</td>\n",
       "      <td>1824.843333</td>\n",
       "      <td>3</td>\n",
       "      <td>...</td>\n",
       "      <td>4.0</td>\n",
       "      <td>Good</td>\n",
       "      <td>809.98</td>\n",
       "      <td>33.053114</td>\n",
       "      <td>22 Years and 10 Months</td>\n",
       "      <td>No</td>\n",
       "      <td>49.574949</td>\n",
       "      <td>21.465380264657146</td>\n",
       "      <td>High_spent_Medium_value_payments</td>\n",
       "      <td>361.44400385378196</td>\n",
       "    </tr>\n",
       "    <tr>\n",
       "      <th>2</th>\n",
       "      <td>0x160c</td>\n",
       "      <td>CUS_0xd40</td>\n",
       "      <td>November</td>\n",
       "      <td>Aaron Maashoh</td>\n",
       "      <td>24</td>\n",
       "      <td>821-00-0265</td>\n",
       "      <td>Scientist</td>\n",
       "      <td>19114.12</td>\n",
       "      <td>1824.843333</td>\n",
       "      <td>3</td>\n",
       "      <td>...</td>\n",
       "      <td>4.0</td>\n",
       "      <td>Good</td>\n",
       "      <td>809.98</td>\n",
       "      <td>33.811894</td>\n",
       "      <td>NaN</td>\n",
       "      <td>No</td>\n",
       "      <td>49.574949</td>\n",
       "      <td>148.23393788500925</td>\n",
       "      <td>Low_spent_Medium_value_payments</td>\n",
       "      <td>264.67544623342997</td>\n",
       "    </tr>\n",
       "    <tr>\n",
       "      <th>3</th>\n",
       "      <td>0x160d</td>\n",
       "      <td>CUS_0xd40</td>\n",
       "      <td>December</td>\n",
       "      <td>Aaron Maashoh</td>\n",
       "      <td>24_</td>\n",
       "      <td>821-00-0265</td>\n",
       "      <td>Scientist</td>\n",
       "      <td>19114.12</td>\n",
       "      <td>NaN</td>\n",
       "      <td>3</td>\n",
       "      <td>...</td>\n",
       "      <td>4.0</td>\n",
       "      <td>Good</td>\n",
       "      <td>809.98</td>\n",
       "      <td>32.430559</td>\n",
       "      <td>23 Years and 0 Months</td>\n",
       "      <td>No</td>\n",
       "      <td>49.574949</td>\n",
       "      <td>39.08251089460281</td>\n",
       "      <td>High_spent_Medium_value_payments</td>\n",
       "      <td>343.82687322383634</td>\n",
       "    </tr>\n",
       "    <tr>\n",
       "      <th>4</th>\n",
       "      <td>0x1616</td>\n",
       "      <td>CUS_0x21b1</td>\n",
       "      <td>September</td>\n",
       "      <td>Rick Rothackerj</td>\n",
       "      <td>28</td>\n",
       "      <td>004-07-5839</td>\n",
       "      <td>_______</td>\n",
       "      <td>34847.84</td>\n",
       "      <td>3037.986667</td>\n",
       "      <td>2</td>\n",
       "      <td>...</td>\n",
       "      <td>5.0</td>\n",
       "      <td>Good</td>\n",
       "      <td>605.03</td>\n",
       "      <td>25.926822</td>\n",
       "      <td>27 Years and 3 Months</td>\n",
       "      <td>No</td>\n",
       "      <td>18.816215</td>\n",
       "      <td>39.684018417945296</td>\n",
       "      <td>High_spent_Large_value_payments</td>\n",
       "      <td>485.2984336755923</td>\n",
       "    </tr>\n",
       "  </tbody>\n",
       "</table>\n",
       "<p>5 rows × 27 columns</p>\n",
       "</div>"
      ],
      "text/plain": [
       "       ID Customer_ID      Month             Name  Age          SSN  \\\n",
       "0  0x160a   CUS_0xd40  September    Aaron Maashoh   23  821-00-0265   \n",
       "1  0x160b   CUS_0xd40    October    Aaron Maashoh   24  821-00-0265   \n",
       "2  0x160c   CUS_0xd40   November    Aaron Maashoh   24  821-00-0265   \n",
       "3  0x160d   CUS_0xd40   December    Aaron Maashoh  24_  821-00-0265   \n",
       "4  0x1616  CUS_0x21b1  September  Rick Rothackerj   28  004-07-5839   \n",
       "\n",
       "  Occupation Annual_Income  Monthly_Inhand_Salary  Num_Bank_Accounts  ...  \\\n",
       "0  Scientist      19114.12            1824.843333                  3  ...   \n",
       "1  Scientist      19114.12            1824.843333                  3  ...   \n",
       "2  Scientist      19114.12            1824.843333                  3  ...   \n",
       "3  Scientist      19114.12                    NaN                  3  ...   \n",
       "4    _______      34847.84            3037.986667                  2  ...   \n",
       "\n",
       "   Num_Credit_Inquiries  Credit_Mix Outstanding_Debt Credit_Utilization_Ratio  \\\n",
       "0                2022.0        Good           809.98                35.030402   \n",
       "1                   4.0        Good           809.98                33.053114   \n",
       "2                   4.0        Good           809.98                33.811894   \n",
       "3                   4.0        Good           809.98                32.430559   \n",
       "4                   5.0        Good           605.03                25.926822   \n",
       "\n",
       "       Credit_History_Age Payment_of_Min_Amount Total_EMI_per_month  \\\n",
       "0   22 Years and 9 Months                    No           49.574949   \n",
       "1  22 Years and 10 Months                    No           49.574949   \n",
       "2                     NaN                    No           49.574949   \n",
       "3   23 Years and 0 Months                    No           49.574949   \n",
       "4   27 Years and 3 Months                    No           18.816215   \n",
       "\n",
       "   Amount_invested_monthly                 Payment_Behaviour  \\\n",
       "0       236.64268203272135    Low_spent_Small_value_payments   \n",
       "1       21.465380264657146  High_spent_Medium_value_payments   \n",
       "2       148.23393788500925   Low_spent_Medium_value_payments   \n",
       "3        39.08251089460281  High_spent_Medium_value_payments   \n",
       "4       39.684018417945296   High_spent_Large_value_payments   \n",
       "\n",
       "      Monthly_Balance  \n",
       "0  186.26670208571772  \n",
       "1  361.44400385378196  \n",
       "2  264.67544623342997  \n",
       "3  343.82687322383634  \n",
       "4   485.2984336755923  \n",
       "\n",
       "[5 rows x 27 columns]"
      ]
     },
     "execution_count": 4,
     "metadata": {},
     "output_type": "execute_result"
    }
   ],
   "source": [
    "data.head()"
   ]
  },
  {
   "cell_type": "markdown",
   "metadata": {},
   "source": [
    "#### Data Cleaning"
   ]
  },
  {
   "cell_type": "markdown",
   "metadata": {},
   "source": [
    "Now that we have a grasp on what each data point's type is, and we know which values contain null values, we can begin to clean it. First we visualize our initial data, it's characteristics, and it's general layout, so we can compare once it is done. "
   ]
  },
  {
   "cell_type": "code",
   "execution_count": 5,
   "metadata": {},
   "outputs": [
    {
     "data": {
      "text/html": [
       "<div>\n",
       "<style scoped>\n",
       "    .dataframe tbody tr th:only-of-type {\n",
       "        vertical-align: middle;\n",
       "    }\n",
       "\n",
       "    .dataframe tbody tr th {\n",
       "        vertical-align: top;\n",
       "    }\n",
       "\n",
       "    .dataframe thead th {\n",
       "        text-align: right;\n",
       "    }\n",
       "</style>\n",
       "<table border=\"1\" class=\"dataframe\">\n",
       "  <thead>\n",
       "    <tr style=\"text-align: right;\">\n",
       "      <th></th>\n",
       "      <th>count</th>\n",
       "      <th>unique</th>\n",
       "      <th>top</th>\n",
       "      <th>freq</th>\n",
       "    </tr>\n",
       "  </thead>\n",
       "  <tbody>\n",
       "    <tr>\n",
       "      <th>ID</th>\n",
       "      <td>50000</td>\n",
       "      <td>50000</td>\n",
       "      <td>0xa60c</td>\n",
       "      <td>1</td>\n",
       "    </tr>\n",
       "    <tr>\n",
       "      <th>Customer_ID</th>\n",
       "      <td>50000</td>\n",
       "      <td>12500</td>\n",
       "      <td>CUS_0x4ed5</td>\n",
       "      <td>4</td>\n",
       "    </tr>\n",
       "    <tr>\n",
       "      <th>Month</th>\n",
       "      <td>50000</td>\n",
       "      <td>4</td>\n",
       "      <td>October</td>\n",
       "      <td>12500</td>\n",
       "    </tr>\n",
       "    <tr>\n",
       "      <th>Name</th>\n",
       "      <td>44985</td>\n",
       "      <td>10139</td>\n",
       "      <td>Stevex</td>\n",
       "      <td>22</td>\n",
       "    </tr>\n",
       "    <tr>\n",
       "      <th>Age</th>\n",
       "      <td>50000</td>\n",
       "      <td>976</td>\n",
       "      <td>39</td>\n",
       "      <td>1493</td>\n",
       "    </tr>\n",
       "    <tr>\n",
       "      <th>SSN</th>\n",
       "      <td>50000</td>\n",
       "      <td>12501</td>\n",
       "      <td>#F%$D@*&amp;8</td>\n",
       "      <td>2828</td>\n",
       "    </tr>\n",
       "    <tr>\n",
       "      <th>Occupation</th>\n",
       "      <td>50000</td>\n",
       "      <td>16</td>\n",
       "      <td>_______</td>\n",
       "      <td>3438</td>\n",
       "    </tr>\n",
       "    <tr>\n",
       "      <th>Annual_Income</th>\n",
       "      <td>50000</td>\n",
       "      <td>16121</td>\n",
       "      <td>9141.63</td>\n",
       "      <td>8</td>\n",
       "    </tr>\n",
       "    <tr>\n",
       "      <th>Num_of_Loan</th>\n",
       "      <td>50000</td>\n",
       "      <td>263</td>\n",
       "      <td>2</td>\n",
       "      <td>7173</td>\n",
       "    </tr>\n",
       "    <tr>\n",
       "      <th>Type_of_Loan</th>\n",
       "      <td>44296</td>\n",
       "      <td>6260</td>\n",
       "      <td>Not Specified</td>\n",
       "      <td>704</td>\n",
       "    </tr>\n",
       "    <tr>\n",
       "      <th>Num_of_Delayed_Payment</th>\n",
       "      <td>46502</td>\n",
       "      <td>443</td>\n",
       "      <td>19</td>\n",
       "      <td>2622</td>\n",
       "    </tr>\n",
       "    <tr>\n",
       "      <th>Changed_Credit_Limit</th>\n",
       "      <td>50000</td>\n",
       "      <td>3927</td>\n",
       "      <td>_</td>\n",
       "      <td>1059</td>\n",
       "    </tr>\n",
       "    <tr>\n",
       "      <th>Credit_Mix</th>\n",
       "      <td>50000</td>\n",
       "      <td>4</td>\n",
       "      <td>Standard</td>\n",
       "      <td>18379</td>\n",
       "    </tr>\n",
       "    <tr>\n",
       "      <th>Outstanding_Debt</th>\n",
       "      <td>50000</td>\n",
       "      <td>12685</td>\n",
       "      <td>1109.03</td>\n",
       "      <td>12</td>\n",
       "    </tr>\n",
       "    <tr>\n",
       "      <th>Credit_History_Age</th>\n",
       "      <td>45530</td>\n",
       "      <td>399</td>\n",
       "      <td>16 Years and 1 Months</td>\n",
       "      <td>254</td>\n",
       "    </tr>\n",
       "    <tr>\n",
       "      <th>Payment_of_Min_Amount</th>\n",
       "      <td>50000</td>\n",
       "      <td>3</td>\n",
       "      <td>Yes</td>\n",
       "      <td>26158</td>\n",
       "    </tr>\n",
       "    <tr>\n",
       "      <th>Amount_invested_monthly</th>\n",
       "      <td>47729</td>\n",
       "      <td>45450</td>\n",
       "      <td>__10000__</td>\n",
       "      <td>2175</td>\n",
       "    </tr>\n",
       "    <tr>\n",
       "      <th>Payment_Behaviour</th>\n",
       "      <td>50000</td>\n",
       "      <td>7</td>\n",
       "      <td>Low_spent_Small_value_payments</td>\n",
       "      <td>12694</td>\n",
       "    </tr>\n",
       "    <tr>\n",
       "      <th>Monthly_Balance</th>\n",
       "      <td>49438</td>\n",
       "      <td>49433</td>\n",
       "      <td>__-333333333333333333333333333__</td>\n",
       "      <td>6</td>\n",
       "    </tr>\n",
       "  </tbody>\n",
       "</table>\n",
       "</div>"
      ],
      "text/plain": [
       "                         count unique                               top   freq\n",
       "ID                       50000  50000                            0xa60c      1\n",
       "Customer_ID              50000  12500                        CUS_0x4ed5      4\n",
       "Month                    50000      4                           October  12500\n",
       "Name                     44985  10139                            Stevex     22\n",
       "Age                      50000    976                                39   1493\n",
       "SSN                      50000  12501                         #F%$D@*&8   2828\n",
       "Occupation               50000     16                           _______   3438\n",
       "Annual_Income            50000  16121                           9141.63      8\n",
       "Num_of_Loan              50000    263                                 2   7173\n",
       "Type_of_Loan             44296   6260                     Not Specified    704\n",
       "Num_of_Delayed_Payment   46502    443                                19   2622\n",
       "Changed_Credit_Limit     50000   3927                                 _   1059\n",
       "Credit_Mix               50000      4                          Standard  18379\n",
       "Outstanding_Debt         50000  12685                           1109.03     12\n",
       "Credit_History_Age       45530    399             16 Years and 1 Months    254\n",
       "Payment_of_Min_Amount    50000      3                               Yes  26158\n",
       "Amount_invested_monthly  47729  45450                         __10000__   2175\n",
       "Payment_Behaviour        50000      7    Low_spent_Small_value_payments  12694\n",
       "Monthly_Balance          49438  49433  __-333333333333333333333333333__      6"
      ]
     },
     "execution_count": 5,
     "metadata": {},
     "output_type": "execute_result"
    }
   ],
   "source": [
    "data.describe(include='object').T"
   ]
  },
  {
   "cell_type": "code",
   "execution_count": 6,
   "metadata": {},
   "outputs": [
    {
     "data": {
      "text/plain": [
       "array([[<matplotlib.axes._subplots.AxesSubplot object at 0x2aaad7065128>,\n",
       "        <matplotlib.axes._subplots.AxesSubplot object at 0x2aaad70ba0b8>,\n",
       "        <matplotlib.axes._subplots.AxesSubplot object at 0x2aaad70e63c8>],\n",
       "       [<matplotlib.axes._subplots.AxesSubplot object at 0x2aaad710d6d8>,\n",
       "        <matplotlib.axes._subplots.AxesSubplot object at 0x2aaad7135d68>,\n",
       "        <matplotlib.axes._subplots.AxesSubplot object at 0x2aaad7135da0>],\n",
       "       [<matplotlib.axes._subplots.AxesSubplot object at 0x2aaad734cac8>,\n",
       "        <matplotlib.axes._subplots.AxesSubplot object at 0x2aaad737f198>,\n",
       "        <matplotlib.axes._subplots.AxesSubplot object at 0x2aaad73a6828>]],\n",
       "      dtype=object)"
      ]
     },
     "execution_count": 6,
     "metadata": {},
     "output_type": "execute_result"
    },
    {
     "data": {
      "image/png": "[encoded data removed]",
      "text/plain": [
       "<Figure size 432x288 with 9 Axes>"
      ]
     },
     "metadata": {
      "needs_background": "light"
     },
     "output_type": "display_data"
    }
   ],
   "source": [
    "data.hist()"
   ]
  },
  {
   "cell_type": "markdown",
   "metadata": {},
   "source": [
    "Replace Null Values"
   ]
  },
  {
   "cell_type": "code",
   "execution_count": 7,
   "metadata": {
    "tags": []
   },
   "outputs": [
    {
     "data": {
      "text/plain": [
       "ID                          False\n",
       "Customer_ID                 False\n",
       "Month                       False\n",
       "Name                         True\n",
       "Age                         False\n",
       "SSN                         False\n",
       "Occupation                  False\n",
       "Annual_Income               False\n",
       "Monthly_Inhand_Salary        True\n",
       "Num_Bank_Accounts           False\n",
       "Num_Credit_Card             False\n",
       "Interest_Rate               False\n",
       "Num_of_Loan                 False\n",
       "Type_of_Loan                 True\n",
       "Delay_from_due_date         False\n",
       "Num_of_Delayed_Payment       True\n",
       "Changed_Credit_Limit        False\n",
       "Num_Credit_Inquiries         True\n",
       "Credit_Mix                  False\n",
       "Outstanding_Debt            False\n",
       "Credit_Utilization_Ratio    False\n",
       "Credit_History_Age           True\n",
       "Payment_of_Min_Amount       False\n",
       "Total_EMI_per_month         False\n",
       "Amount_invested_monthly      True\n",
       "Payment_Behaviour           False\n",
       "Monthly_Balance              True\n",
       "dtype: bool"
      ]
     },
     "execution_count": 7,
     "metadata": {},
     "output_type": "execute_result"
    }
   ],
   "source": [
    "data.isnull().any()"
   ]
  },
  {
   "cell_type": "markdown",
   "metadata": {},
   "source": [
    "Name, Customer_ID, and SSN have no real effect on our prediciton algorithm as we train it, so there is no reason for it to be left in the dataset"
   ]
  },
  {
   "cell_type": "code",
   "execution_count": 8,
   "metadata": {},
   "outputs": [],
   "source": [
    "data.drop('Name', axis=1, inplace=True)\n",
    "data.drop('Customer_ID', axis=1, inplace=True)\n",
    "data.drop('SSN', axis=1, inplace=True)"
   ]
  },
  {
   "cell_type": "markdown",
   "metadata": {},
   "source": [
    "We also have null values in Monthly_Inhand_Salary, which we can fill with the mean to maintain our distribution."
   ]
  },
  {
   "cell_type": "code",
   "execution_count": 9,
   "metadata": {},
   "outputs": [
    {
     "name": "stdout",
     "output_type": "stream",
     "text": [
      "Total null values in Monthly_Inhand_Salary column:  7498 \n",
      "\n",
      "Total unique values in Monthly_Inhand_Salary column:  12793 \n",
      "\n",
      "Mean value of Monthly_Inhand_Salary column : 4182.004291203503\n",
      "Total null values in Monthly_Inhand_Salary column:  0\n"
     ]
    }
   ],
   "source": [
    "#Determine the original number of values\n",
    "print('Total null values in Monthly_Inhand_Salary column: ', data.Monthly_Inhand_Salary.isnull().sum(), '\\n')\n",
    "print('Total unique values in Monthly_Inhand_Salary column: ', data.Monthly_Inhand_Salary.nunique(), '\\n')\n",
    "\n",
    "#Find average value for Monthly Inhand Salary\n",
    "mean = data['Monthly_Inhand_Salary'].mean()\n",
    "print('Mean value of Monthly_Inhand_Salary column :', mean)\n",
    "\n",
    "#replace null values with mean\n",
    "data['Monthly_Inhand_Salary']=data['Monthly_Inhand_Salary'].replace(np.nan, mean).astype(float)\n",
    "print('Total null values in Monthly_Inhand_Salary column: ', data.Monthly_Inhand_Salary.isnull().sum(),)"
   ]
  },
  {
   "cell_type": "markdown",
   "metadata": {},
   "source": [
    "We also have null values in Type_of_Loan, which we will impute with a generic name, so we can still grasp the distribution even if there isn't a type that the loan falls into. "
   ]
  },
  {
   "cell_type": "code",
   "execution_count": 10,
   "metadata": {},
   "outputs": [
    {
     "name": "stdout",
     "output_type": "stream",
     "text": [
      "Total null values in Type_of_Loan column:  5704 \n",
      "\n",
      "Total unique values in Type_of_Loan column:  6260 \n",
      "\n"
     ]
    },
    {
     "data": {
      "text/plain": [
       "array(['Auto Loan, Credit-Builder Loan, Personal Loan, and Home Equity Loan',\n",
       "       'Credit-Builder Loan', 'Auto Loan, Auto Loan, and Not Specified',\n",
       "       ..., 'Home Equity Loan, Auto Loan, Auto Loan, and Auto Loan',\n",
       "       'Payday Loan, Student Loan, Mortgage Loan, and Not Specified',\n",
       "       'Personal Loan, Auto Loan, Mortgage Loan, Student Loan, and Student Loan'],\n",
       "      dtype=object)"
      ]
     },
     "execution_count": 10,
     "metadata": {},
     "output_type": "execute_result"
    }
   ],
   "source": [
    "print('Total null values in Type_of_Loan column: ', data.Type_of_Loan.isnull().sum(), '\\n')\n",
    "print('Total unique values in Type_of_Loan column: ', data.Type_of_Loan.nunique(), '\\n')\n",
    "data.Type_of_Loan.unique()"
   ]
  },
  {
   "cell_type": "code",
   "execution_count": 11,
   "metadata": {},
   "outputs": [
    {
     "name": "stdout",
     "output_type": "stream",
     "text": [
      "Total null values in Type_of_Loan column:  0\n"
     ]
    }
   ],
   "source": [
    "data['Type_of_Loan']=data['Type_of_Loan'].replace(np.nan, 'Generic')\n",
    "print('Total null values in Type_of_Loan column: ', data.Type_of_Loan.isnull().sum(),)"
   ]
  },
  {
   "cell_type": "markdown",
   "metadata": {},
   "source": [
    "There are null and non-numeric in Num_of_Delayed_Payment, so we want to replace all nulls with 0 and remove any non-numeric values. That way, we can assume that if the data was not input, it was not relavent, so we can assume it was 0. "
   ]
  },
  {
   "cell_type": "code",
   "execution_count": 12,
   "metadata": {},
   "outputs": [
    {
     "name": "stdout",
     "output_type": "stream",
     "text": [
      "Total null values in Num_of_Delayed_Payment column:  3498 \n",
      "\n",
      "Total unique values in Num_of_Delayed_Payment column:  443 \n",
      "\n"
     ]
    }
   ],
   "source": [
    "print('Total null values in Num_of_Delayed_Payment column: ', data.Num_of_Delayed_Payment.isnull().sum(), '\\n')\n",
    "print('Total unique values in Num_of_Delayed_Payment column: ', data.Num_of_Delayed_Payment.nunique(), '\\n')"
   ]
  },
  {
   "cell_type": "code",
   "execution_count": 13,
   "metadata": {},
   "outputs": [
    {
     "name": "stdout",
     "output_type": "stream",
     "text": [
      "Total null values in Num_of_Delayed_Payment column:  0\n"
     ]
    }
   ],
   "source": [
    "data['Num_of_Delayed_Payment'] = data['Num_of_Delayed_Payment'].str.extract(r'(\\d+)')\n",
    "data['Num_of_Delayed_Payment'] = data['Num_of_Delayed_Payment'].fillna(0)\n",
    "data['Num_of_Delayed_Payment'] = data['Num_of_Delayed_Payment'].astype(int)\n",
    "print('Total null values in Num_of_Delayed_Payment column: ', data.Num_of_Delayed_Payment.isnull().sum())"
   ]
  },
  {
   "cell_type": "markdown",
   "metadata": {},
   "source": [
    "For the remaining values, it can be generally assumed that if no value was put in, it was because it was not relevant, from which we can assume that it generally means the answer is 0. Additionally, any values we would be unable to compute should be removed"
   ]
  },
  {
   "cell_type": "code",
   "execution_count": 14,
   "metadata": {},
   "outputs": [],
   "source": [
    "data['Num_Credit_Inquiries']  = data['Num_Credit_Inquiries'].fillna(0)\n",
    "data['Amount_invested_monthly']=data['Amount_invested_monthly'].replace('__10000__', 0).astype(float)\n",
    "data['Amount_invested_monthly'] = data['Amount_invested_monthly'].replace('_', '').astype(float)\n",
    "data['Amount_invested_monthly'] = data['Amount_invested_monthly'].fillna(0)\n",
    "data['Amount_invested_monthly'].isnull().sum()\n",
    "data['Monthly_Balance'] = data['Monthly_Balance'].fillna(0)\n",
    "data['Monthly_Balance']=data['Monthly_Balance'].replace('__-333333333333333333333333333__', 0).astype(float)\n",
    "data['Age'] = data['Age'].str.extract('(\\d+)', expand=False).astype(int)"
   ]
  },
  {
   "cell_type": "markdown",
   "metadata": {},
   "source": [
    "Removing any outliers from our set, so that our data isn't skewed as we try and train out dataset"
   ]
  },
  {
   "cell_type": "code",
   "execution_count": 15,
   "metadata": {
    "tags": []
   },
   "outputs": [],
   "source": [
    "#Determine outliers\n",
    "Q1 = data.quantile(0.25)\n",
    "Q3 = data.quantile(0.75)\n",
    "IQR = Q3 - Q1\n",
    "#Remove outliers\n",
    "data = data[~((data < (Q1 - 1.5*IQR)) | (data > (Q3 + 1.5*IQR))).any(axis = 1)]\n",
    "data = data[(data['Num_Bank_Accounts'] >= 0)]"
   ]
  },
  {
   "cell_type": "markdown",
   "metadata": {},
   "source": [
    "For all the remaining values, it is important to be able to remove incomputable values from the dataset, so we can correctly cast them to the right values. "
   ]
  },
  {
   "cell_type": "code",
   "execution_count": 16,
   "metadata": {},
   "outputs": [
    {
     "name": "stdout",
     "output_type": "stream",
     "text": [
      "Annual Income Unique Values : ['19114.12' '34847.84' '30689.89' ... '16680.35' '20002.88' '39628.99']\n",
      "Annual Income Unique Values : [19114.12 34847.84 30689.89 ... 16680.35 20002.88 39628.99]\n"
     ]
    }
   ],
   "source": [
    "print('Annual Income Unique Values :', data.Annual_Income.unique())\n",
    "data['Annual_Income'] = data['Annual_Income'].str.extract('(\\d*\\.\\d+|\\d+)', expand=False).astype(float)\n",
    "print('Annual Income Unique Values :', data.Annual_Income.unique())"
   ]
  },
  {
   "cell_type": "code",
   "execution_count": 17,
   "metadata": {},
   "outputs": [],
   "source": [
    "data['Num_of_Loan'] = data['Num_of_Loan'].str.extract('(\\d*\\.\\d+|\\d+)', expand=False)\n",
    "data['Num_of_Loan'] = data['Num_of_Loan'].astype(int)"
   ]
  },
  {
   "cell_type": "code",
   "execution_count": 18,
   "metadata": {},
   "outputs": [],
   "source": [
    "data['Changed_Credit_Limit'] = data['Changed_Credit_Limit'].str.extract('(\\d*\\.\\d+|\\d+)', expand=False).astype(float)\n",
    "data['Changed_Credit_Limit'] = data['Changed_Credit_Limit'].fillna(0)"
   ]
  },
  {
   "cell_type": "code",
   "execution_count": 19,
   "metadata": {},
   "outputs": [],
   "source": [
    "data['Outstanding_Debt'] = data['Outstanding_Debt'].str.extract('(\\d*\\.\\d+|\\d+)', expand=False).astype(float)"
   ]
  },
  {
   "cell_type": "markdown",
   "metadata": {},
   "source": [
    "Now that we have completed our cleaning, we must revisualize the data. Firstly, we should ensure that all values have become normalized and computable. We can also see our distribution remains fairly similar, without many of the outliers. "
   ]
  },
  {
   "cell_type": "code",
   "execution_count": 20,
   "metadata": {},
   "outputs": [
    {
     "name": "stdout",
     "output_type": "stream",
     "text": [
      "<class 'pandas.core.frame.DataFrame'>\n",
      "Int64Index: 33668 entries, 1 to 49999\n",
      "Data columns (total 24 columns):\n",
      "ID                          33668 non-null object\n",
      "Month                       33668 non-null object\n",
      "Age                         33668 non-null int64\n",
      "Occupation                  33668 non-null object\n",
      "Annual_Income               33668 non-null float64\n",
      "Monthly_Inhand_Salary       33668 non-null float64\n",
      "Num_Bank_Accounts           33668 non-null int64\n",
      "Num_Credit_Card             33668 non-null int64\n",
      "Interest_Rate               33668 non-null int64\n",
      "Num_of_Loan                 33668 non-null int64\n",
      "Type_of_Loan                33668 non-null object\n",
      "Delay_from_due_date         33668 non-null int64\n",
      "Num_of_Delayed_Payment      33668 non-null int64\n",
      "Changed_Credit_Limit        33668 non-null float64\n",
      "Num_Credit_Inquiries        33668 non-null float64\n",
      "Credit_Mix                  33668 non-null object\n",
      "Outstanding_Debt            33668 non-null float64\n",
      "Credit_Utilization_Ratio    33668 non-null float64\n",
      "Credit_History_Age          30658 non-null object\n",
      "Payment_of_Min_Amount       33668 non-null object\n",
      "Total_EMI_per_month         33668 non-null float64\n",
      "Amount_invested_monthly     33668 non-null float64\n",
      "Payment_Behaviour           33668 non-null object\n",
      "Monthly_Balance             33668 non-null float64\n",
      "dtypes: float64(9), int64(7), object(8)\n",
      "memory usage: 6.4+ MB\n"
     ]
    }
   ],
   "source": [
    "data.info()"
   ]
  },
  {
   "cell_type": "code",
   "execution_count": 21,
   "metadata": {},
   "outputs": [
    {
     "data": {
      "text/plain": [
       "ID                          False\n",
       "Month                       False\n",
       "Age                         False\n",
       "Occupation                  False\n",
       "Annual_Income               False\n",
       "Monthly_Inhand_Salary       False\n",
       "Num_Bank_Accounts           False\n",
       "Num_Credit_Card             False\n",
       "Interest_Rate               False\n",
       "Num_of_Loan                 False\n",
       "Type_of_Loan                False\n",
       "Delay_from_due_date         False\n",
       "Num_of_Delayed_Payment      False\n",
       "Changed_Credit_Limit        False\n",
       "Num_Credit_Inquiries        False\n",
       "Credit_Mix                  False\n",
       "Outstanding_Debt            False\n",
       "Credit_Utilization_Ratio    False\n",
       "Credit_History_Age           True\n",
       "Payment_of_Min_Amount       False\n",
       "Total_EMI_per_month         False\n",
       "Amount_invested_monthly     False\n",
       "Payment_Behaviour           False\n",
       "Monthly_Balance             False\n",
       "dtype: bool"
      ]
     },
     "execution_count": 21,
     "metadata": {},
     "output_type": "execute_result"
    }
   ],
   "source": [
    "data.isnull().any()"
   ]
  },
  {
   "cell_type": "code",
   "execution_count": 22,
   "metadata": {},
   "outputs": [
    {
     "data": {
      "text/plain": [
       "array([[<matplotlib.axes._subplots.AxesSubplot object at 0x2aab1c817e48>,\n",
       "        <matplotlib.axes._subplots.AxesSubplot object at 0x2aab1c605550>,\n",
       "        <matplotlib.axes._subplots.AxesSubplot object at 0x2aab1c85a160>,\n",
       "        <matplotlib.axes._subplots.AxesSubplot object at 0x2aab1c8307f0>],\n",
       "       [<matplotlib.axes._subplots.AxesSubplot object at 0x2aab1c64de80>,\n",
       "        <matplotlib.axes._subplots.AxesSubplot object at 0x2aab1c64deb8>,\n",
       "        <matplotlib.axes._subplots.AxesSubplot object at 0x2aab1c5afbe0>,\n",
       "        <matplotlib.axes._subplots.AxesSubplot object at 0x2aab1c57d2b0>],\n",
       "       [<matplotlib.axes._subplots.AxesSubplot object at 0x2aab1c6c2940>,\n",
       "        <matplotlib.axes._subplots.AxesSubplot object at 0x2aab1c6ecfd0>,\n",
       "        <matplotlib.axes._subplots.AxesSubplot object at 0x2aab1c71d6a0>,\n",
       "        <matplotlib.axes._subplots.AxesSubplot object at 0x2aab1c745d30>],\n",
       "       [<matplotlib.axes._subplots.AxesSubplot object at 0x2aab1c7ba400>,\n",
       "        <matplotlib.axes._subplots.AxesSubplot object at 0x2aab1c7e4a90>,\n",
       "        <matplotlib.axes._subplots.AxesSubplot object at 0x2aab1c816160>,\n",
       "        <matplotlib.axes._subplots.AxesSubplot object at 0x2aab1c4837f0>]],\n",
       "      dtype=object)"
      ]
     },
     "execution_count": 22,
     "metadata": {},
     "output_type": "execute_result"
    },
    {
     "data": {
      "image/png": "[encoded data removed]",
      "text/plain": [
       "<Figure size 432x288 with 16 Axes>"
      ]
     },
     "metadata": {
      "needs_background": "light"
     },
     "output_type": "display_data"
    }
   ],
   "source": [
    "data.hist()"
   ]
  },
  {
   "cell_type": "markdown",
   "metadata": {},
   "source": [
    "There are a select few more issues to account for. We must remove all illegal characters, so that we can efficiently run operations on everything. We must also convert our results, Credit Mix, into increasing integers to represent their type. We must also make the age numeric, so that our algorithm can process it correctly."
   ]
  },
  {
   "cell_type": "code",
   "execution_count": 23,
   "metadata": {},
   "outputs": [],
   "source": [
    "#remove remaining illegal values\n",
    "#Replace Invalid Values\n",
    "data =data.replace(r'[^\\w\\s.]|_|-', '', regex=True) \n",
    "#Replace all blank strings will null to be dropped\n",
    "data.replace('', np.nan, inplace=True)"
   ]
  },
  {
   "cell_type": "code",
   "execution_count": 24,
   "metadata": {},
   "outputs": [
    {
     "name": "stdout",
     "output_type": "stream",
     "text": [
      "Standard    13211\n",
      "Good         7304\n",
      "NaN          6581\n",
      "Bad          6572\n",
      "Name: Credit_Mix, dtype: int64\n"
     ]
    }
   ],
   "source": [
    "#Converting the unique credit mix values from Bad, Standard, and Good to 1, 2, and 3\n",
    "print(data['Credit_Mix'].value_counts(dropna=False))\n",
    "data = data.replace(['Bad', 'Standard', 'Good'], [1, 2, 3])\n",
    "data['Credit_Mix'] = data[['Credit_Mix']].apply(pd.to_numeric)"
   ]
  },
  {
   "cell_type": "code",
   "execution_count": 25,
   "metadata": {
    "scrolled": true
   },
   "outputs": [
    {
     "name": "stdout",
     "output_type": "stream",
     "text": [
      "NaN                       3010\n",
      "18 Years and 1 Months      182\n",
      "16 Years and 1 Months      176\n",
      "18 Years and 6 Months      176\n",
      "20 Years and 1 Months      174\n",
      "                          ... \n",
      "1 Years and 4 Months        16\n",
      "33 Years and 11 Months      13\n",
      "34 Years and 0 Months       13\n",
      "0 Years and 11 Months        8\n",
      "0 Years and 10 Months        7\n",
      "Name: Credit_History_Age, Length: 400, dtype: int64\n"
     ]
    }
   ],
   "source": [
    "#Convert Age to a numeric value\n",
    "print(data['Credit_History_Age'].value_counts(dropna=False))\n",
    "data['Credit_History_Age'] = data['Credit_History_Age'].str[:2]\n",
    "data['Credit_History_Age'] = data[['Credit_History_Age']].apply(pd.to_numeric)\n",
    "data['Credit_History_Age'] = data['Credit_History_Age'].fillna(0) "
   ]
  },
  {
   "cell_type": "markdown",
   "metadata": {},
   "source": [
    "Finally, we must consider the methods with which our algorithm will interpret our data to be classified. In order to all sklearn to understand the input, we much hot-code all our values so that their is no precedience placed on any category, but so that they are represented in a simple type. Then we must ensure that all out values are of type int so that sklearn can process them. "
   ]
  },
  {
   "cell_type": "code",
   "execution_count": 26,
   "metadata": {},
   "outputs": [],
   "source": [
    "#One hot encode categories\n",
    "def one_hot(array):\n",
    "    unique, inverse = np.unique(array, return_inverse=True)\n",
    "    onehot = np.eye(unique.shape[0])[inverse]\n",
    "    return onehot\n",
    "\n",
    "data['Occupation'] = data['Occupation'].fillna('None') \n",
    "\n",
    "data['Month'] = one_hot(np.array(data['Month']))\n",
    "data['Occupation'] = one_hot(np.array(data['Occupation']))\n",
    "data['Payment_Behaviour'] = one_hot(np.array(data['Payment_Behaviour']))\n",
    "data['Payment_of_Min_Amount'] = one_hot(np.array(data['Payment_of_Min_Amount']))"
   ]
  },
  {
   "cell_type": "code",
   "execution_count": 27,
   "metadata": {},
   "outputs": [],
   "source": [
    "#Convert all numberic values to type int\n",
    "data['ID'] = data['ID'].apply(lambda x: int(x, 16))\n",
    "data['Age'] = data['Age'].astype(int)\n",
    "data['Annual_Income'] = data['Annual_Income'].astype(int)\n",
    "data['Monthly_Inhand_Salary'] = data['Monthly_Inhand_Salary'].astype(int)\n",
    "data['Num_Bank_Accounts'] = data['Num_Bank_Accounts'].astype(int)\n",
    "data['Num_Credit_Card'] = data['Num_Credit_Card'].astype(int)\n",
    "data['Interest_Rate'] = data['Interest_Rate'].astype(int)\n",
    "data['Num_of_Loan'] = data['Num_of_Loan'].astype(int)\n",
    "data['Delay_from_due_date'] = data['Delay_from_due_date'].astype(int)\n",
    "data['Num_of_Delayed_Payment'] = data['Num_of_Delayed_Payment'].astype(int)\n",
    "data['Changed_Credit_Limit'] = data['Changed_Credit_Limit'].astype(int)\n",
    "data['Outstanding_Debt'] = data['Outstanding_Debt'].astype(int)\n",
    "data['Credit_Utilization_Ratio'] = data['Credit_Utilization_Ratio'].astype(int)\n",
    "data['Credit_History_Age'] = data['Credit_History_Age'].astype(int)\n",
    "data['Total_EMI_per_month'] = data['Total_EMI_per_month'].astype(int)\n",
    "data['Amount_invested_monthly'] = data['Amount_invested_monthly'].astype(int)\n",
    "data['Monthly_Balance'] = data['Monthly_Balance'].astype(int)"
   ]
  },
  {
   "cell_type": "code",
   "execution_count": 28,
   "metadata": {},
   "outputs": [],
   "source": [
    "#drop all rows that have any NaN values\n",
    "data = data.dropna()\n",
    "\n",
    "#reset index of DataFrame\n",
    "data = data.reset_index(drop=True)"
   ]
  },
  {
   "cell_type": "markdown",
   "metadata": {},
   "source": [
    "### Training vs Testing\n",
    "Now that we had a clean data set, we needed to break it into testing and training datasets to be able to run the classification algorithm on. We split are values into a data matrix of all the dependent variables we wanted to test against, and a numpy array of the credit score as our independent result varibale. To test, we utalized a simple sample prediction. From our tests of each split and it's accuracy, we can see that a 40-60 split would yeild the highest accuracy. "
   ]
  },
  {
   "cell_type": "code",
   "execution_count": 29,
   "metadata": {},
   "outputs": [
    {
     "name": "stdout",
     "output_type": "stream",
     "text": [
      "The shape of the data matrix: (27087, 20)\n",
      "The shape of the target variable: (27087,)\n"
     ]
    }
   ],
   "source": [
    "# Creating our data matrix (X) and our target variable (y) that we will work on from the dataframe we have\n",
    "X = data[['Age', 'Annual_Income', 'Monthly_Inhand_Salary', 'Num_Bank_Accounts', 'Num_Credit_Card', 'Interest_Rate', 'Num_of_Loan', 'Delay_from_due_date', 'Num_of_Delayed_Payment', 'Changed_Credit_Limit', 'Num_Credit_Inquiries', 'Credit_Mix', 'Outstanding_Debt', 'Credit_Utilization_Ratio', 'Credit_History_Age', 'Payment_of_Min_Amount', 'Total_EMI_per_month', 'Amount_invested_monthly', 'Payment_Behaviour', 'Monthly_Balance']].to_numpy()\n",
    "#y = data[['Credit_Score']].to_numpy()\n",
    "y = data.Credit_Mix.to_numpy()\n",
    "print(\"The shape of the data matrix: \" + str(X.shape))\n",
    "print(\"The shape of the target variable: \" + str(y.shape))"
   ]
  },
  {
   "cell_type": "code",
   "execution_count": 30,
   "metadata": {},
   "outputs": [],
   "source": [
    "#Different possible splits\n",
    "splits = [0.1, 0.2, 0.3, 0.4, .5]\n",
    "split_res = pd.DataFrame(columns=['Size', 'Accuracy'])\n",
    "for size in splits:\n",
    "    X_train, X_test, y_train, y_test = train_test_split(X.copy(), y.copy(), test_size=size)\n",
    "    test_model = SKLogisticRegression () \n",
    "    test_model.fit(X_train,y_train)\n",
    "    yhat = test_model.predict(X_test)\n",
    "    split_res.loc[len(split_res)] = [size, accuracy_score(y_test,yhat)]"
   ]
  },
  {
   "cell_type": "code",
   "execution_count": 31,
   "metadata": {},
   "outputs": [
    {
     "data": {
      "text/plain": [
       "<matplotlib.axes._subplots.AxesSubplot at 0x2aab1da11978>"
      ]
     },
     "execution_count": 31,
     "metadata": {},
     "output_type": "execute_result"
    },
    {
     "data": {
      "image/png": "[encoded data removed]",
      "text/plain": [
       "<Figure size 432x288 with 1 Axes>"
      ]
     },
     "metadata": {
      "needs_background": "light"
     },
     "output_type": "display_data"
    }
   ],
   "source": [
    "sns.lineplot(data=split_res, x='Size', y='Accuracy')"
   ]
  },
  {
   "cell_type": "code",
   "execution_count": 32,
   "metadata": {},
   "outputs": [
    {
     "name": "stdout",
     "output_type": "stream",
     "text": [
      "The training matrix and target shapes: (16252, 20) & (16252,)\n",
      "The testing matrix and target shapes: (10835, 20) & (10835,)\n"
     ]
    }
   ],
   "source": [
    "# Dividing the data into training and testing data using an 80% training and 20% testing split.\n",
    "X_train, X_test, y_train, y_test = train_test_split(X.copy(), y.copy(), test_size=0.4, random_state=0)\n",
    "print(\"The training matrix and target shapes: \" + str(X_train.shape)+ ' & ' + str(y_train.shape))\n",
    "print(\"The testing matrix and target shapes: \" + str(X_test.shape)+ ' & ' + str(y_test.shape))"
   ]
  },
  {
   "cell_type": "markdown",
   "metadata": {},
   "source": [
    "## Modeling"
   ]
  },
  {
   "cell_type": "markdown",
   "metadata": {
    "tags": []
   },
   "source": [
    "### Logistic Regression"
   ]
  },
  {
   "cell_type": "markdown",
   "metadata": {},
   "source": [
    "Beginning with the base of Eric Larson's simple Binary Logisitic Regression class and Logistric Regression class, I was able to implement the basics of training classification. However, to be able to implement more accurate results, I added the ability to use the solvers of : steepest ascent, stochastic gradient ascent, and Newton's method. I also allowed regularization to be selected, as well as an associated cost. I chose an optimized iterations based on the amount of iterations it would generally need to be successful. Ideally we could have tested it, but that would cause our computations to take too much time. So I went with a more intuitve route. \n",
    "\n",
    "\n",
    "**Steepest Ascent :** maximize a multivariable function over x through by following the largest slope and taking steps until the minimum is found\n",
    "\n",
    "\n",
    "**Stochastic Gradient Ascent :** Finds the gradient of a single random choice rather than the entire sum\n",
    "\n",
    "\n",
    "**Newton's Method :** Finds the point of least function values through by utilizing a Hessian Matrix, which is the second-order partial derivated of a function "
   ]
  },
  {
   "cell_type": "code",
   "execution_count": 33,
   "metadata": {},
   "outputs": [],
   "source": [
    "import numpy as np\n",
    "from scipy.special import expit\n",
    "\n",
    "class BinaryLogisticRegression:\n",
    "    # private:\n",
    "    def __init__(self, eta = 0.01, iterations=20, optimization = 'sa', c = 0, reg = 'none'):\n",
    "        self.eta = eta\n",
    "        self.iters = iterations\n",
    "        # internally we will store the weights as self.w_ to keep with sklearn conventions\n",
    "        #Set values based on custom selection\n",
    "        self.optim = optimization\n",
    "        self.c = c\n",
    "        self.reg = reg\n",
    "        \n",
    "    def __str__(self):\n",
    "        if(hasattr(self,'w_')):\n",
    "            return 'Binary Logistic Regression Object with coefficients:\\n'+ str(self.w_) # is we have trained the object\n",
    "        else:\n",
    "            return 'Untrained Binary Logistic Regression Object'\n",
    "    \n",
    "    # convenience, private and static:\n",
    "    @staticmethod\n",
    "    def _sigmoid(theta):\n",
    "        return expit(theta) #1/(1+np.exp(-theta))\n",
    "    \n",
    "    #NEW - used to ass a bias term\n",
    "    @staticmethod\n",
    "    def _add_bias(X):\n",
    "        return np.hstack((np.ones((X.shape[0],1)),X)) # add bias term\n",
    "    \n",
    "    # public:\n",
    "    def predict_proba(self, X, add_bias=True):\n",
    "        # add bias term if requested\n",
    "        Xb = self._add_bias(X) if add_bias else X\n",
    "        return self._sigmoid(Xb @ self.w_) # return the probability y=1\n",
    "    \n",
    "    def predict(self,X):\n",
    "        return (self.predict_proba(X)>0.5) #return the actual prediction\n",
    "    \n",
    "    #NEW - add gradient for each type of solver algorithm\n",
    "    def _get_gradient(self, X, y) :\n",
    "        gradient = np.zeros(self.w_.shape) # set gradient to zero\n",
    "        \n",
    "        if self.optim == 'steepest' :\n",
    "            # get y difference\n",
    "            ydiff = y-self.predict_proba(X,add_bias=False).ravel()\n",
    "            # make ydiff a column vector and multiply through\n",
    "            gradient = np.mean(X * ydiff[:,np.newaxis], axis=0)\n",
    "            # cause gradient to reshape to data\n",
    "            gradient = gradient.reshape(self.w_.shape)\n",
    "            # regularize the data\n",
    "            gradient[1:] += self._regularize()\n",
    "            \n",
    "            return gradient\n",
    "        \n",
    "        if self.optim == 'stochastic' :\n",
    "            #random instance selection\n",
    "            idx = int(np.random.rand()*len(y))\n",
    "            # get y difference\n",
    "            ydiff = y[idx]-self.predict_proba(X[idx],add_bias=False)\n",
    "            # make ydiff a column vector\n",
    "            ydiff_vector = ydiff[:,np.newaxis]\n",
    "            #multipy through all values in data\n",
    "            gradient = X[idx] * ydiff_vector \n",
    "            # reshape to data accordingly\n",
    "            gradient = gradient.reshape(self.w_.shape)\n",
    "            # regularize \n",
    "            gradient[1:] += self._regularize()\n",
    "            \n",
    "            return gradient\n",
    "        \n",
    "        if self.optim == 'newton' :\n",
    "            # get sigmoid value for all classes\n",
    "            g = self.predict_proba(X,add_bias=False).ravel()\n",
    "             # calculate the true hessian\n",
    "            hessian = X.T @ np.diag(g*(1-g)) @ X - 2 * self.c\n",
    "            # get y difference\n",
    "            ydiff = y-g \n",
    "            # make ydiff a column vector\n",
    "            ydiff_vector = ydiff[:,np.newaxis]\n",
    "            # multipy through all values in data\n",
    "            gradient = np.sum(X * ydiff_vector, axis=0)\n",
    "            # reshape to data accordingly\n",
    "            gradient = gradient.reshape(self.w_.shape)\n",
    "            # regularize \n",
    "            gradient[1:] +=  self._regularize()\n",
    "            \n",
    "            #return hessian multiplied with gradient\n",
    "            return pinv(hessian) @ gradient\n",
    "        \n",
    "    #General regularizations applied given each type of value to prevent over and underfitting\n",
    "    #L1 represents LASSO regression - adds absolute value of magnitude\n",
    "    #L2 represents ridge regression - adds squared magnitude\n",
    "    def _regularize(self) :\n",
    "        if self.reg == 'none':\n",
    "            return self.w_[1:] * self.c\n",
    "        elif self.reg == 'l1':\n",
    "            return np.sign(self.w_[1:]) * self.c\n",
    "        elif self.reg == 'l2':\n",
    "            return -2 * self.w_[1:] * self.c\n",
    "        elif self.reg == 'l1l2':\n",
    "            return -2 * self.w_[1:] + np.sign(self.w_[1:]) * self.c\n",
    "        \n",
    "    def fit(self, X, y):\n",
    "        Xb = self._add_bias(X) # add bias term\n",
    "        num_samples, num_features = Xb.shape\n",
    "        \n",
    "        self.w_ = np.zeros((num_features,1)) # init weight vector to zeros\n",
    "        \n",
    "        # for as many as the max iterations\n",
    "        for _ in range(self.iters):\n",
    "            gradient = self._get_gradient(Xb,y)\n",
    "            self.w_ += gradient*self.eta # multiply by learning rate "
   ]
  },
  {
   "cell_type": "code",
   "execution_count": 34,
   "metadata": {},
   "outputs": [],
   "source": [
    "class LogisticRegression:\n",
    "    def __init__(self, eta = 0.01, iterations=20, optimization = 'sa', c = 0.001, reg = 'none'):\n",
    "        self.eta = eta\n",
    "        self.iters = iterations\n",
    "        # internally we will store the weights as self.w_ to keep with sklearn conventions\n",
    "        #set values based on values sent in\n",
    "        self.optim = optimization\n",
    "        self.c = c\n",
    "        self.reg = reg\n",
    "    \n",
    "    def __str__(self):\n",
    "        if(hasattr(self,'w_')):\n",
    "            return 'MultiClass Logistic Regression Object with coefficients:\\n'+ str(self.w_) # is we have trained the object\n",
    "        else:\n",
    "            return 'Untrained MultiClass Logistic Regression Object'\n",
    "        \n",
    "    def fit(self,X,y):\n",
    "        num_samples, num_features = X.shape\n",
    "        self.unique_ = np.unique(y) # get each unique class value\n",
    "        num_unique_classes = len(self.unique_)\n",
    "        self.classifiers_ = [] # will fill this array with binary classifiers\n",
    "        \n",
    "        for i,yval in enumerate(self.unique_): # for each unique value\n",
    "            y_binary = (y==yval) # create a binary problem\n",
    "            # train the binary classifier for this class with unique passed in variables\n",
    "            blr = BinaryLogisticRegression(eta=self.eta,\n",
    "                                                 iterations=self.iters,\n",
    "                                                 optimization=self.optim,\n",
    "                                                 c=self.c,\n",
    "                                                 reg=self.reg)\n",
    "            blr.fit(X,y_binary)\n",
    "            # add the trained classifier to the list\n",
    "            self.classifiers_.append(blr)\n",
    "            \n",
    "        # save all the weights into one matrix, separate column for each class\n",
    "        self.w_ = np.hstack([x.w_ for x in self.classifiers_]).T\n",
    "        \n",
    "    def predict_proba(self,X):\n",
    "        probs = []\n",
    "        for blr in self.classifiers_:\n",
    "            probs.append(blr.predict_proba(X)) # get probability for each classifier\n",
    "        \n",
    "        return np.hstack(probs) # make into single matrix\n",
    "    \n",
    "    def predict(self,X):\n",
    "        return self.unique_[np.argmax(self.predict_proba(X),axis=1)] # take argmax along row"
   ]
  },
  {
   "cell_type": "markdown",
   "metadata": {},
   "source": [
    "Upon development, I tested each solver with the below code to ensure they were functioning properly. "
   ]
  },
  {
   "cell_type": "code",
   "execution_count": null,
   "metadata": {},
   "outputs": [],
   "source": [
    "lr = LogisticRegression(eta=0.0001, iterations=5000, optimization='steepest', c = .5, reg='l1')\n",
    "lr.fit(X_train,y_train)\n",
    "yhat = lr.predict(X_test)\n",
    "print('Accuracy of: ', accuracy_score(y_test,yhat))\n",
    "\n",
    "lr = LogisticRegression(eta=0.0001, iterations=5000, optimization='stochastic', c = .5, reg='l1')\n",
    "lr.fit(X_train,y_train)\n",
    "yhat = lr.predict(X_test)\n",
    "print('Accuracy of: ', accuracy_score(y_test,yhat))\n",
    "\n",
    "lr = LogisticRegression(eta=0.0001, iterations=5000, optimization='newton', c = .5, reg='l1')\n",
    "lr.fit(X_train,y_train)\n",
    "yhat = lr.predict(X_test)\n",
    "print('Accuracy of: ', accuracy_score(y_test,yhat))"
   ]
  },
  {
   "cell_type": "markdown",
   "metadata": {},
   "source": [
    "### Train Classifier\n",
    "Train your classifier to achieve good generalization performance. That is, adjust the optimization technique and the value of the regularization term(s) \"C\" to achieve the best performance on your test set. Visualize the performance of the classifier versus the parameters you investigated. Is your method of selecting parameters justified? That is, do you think there is any \"data snooping\" involved with this method of selecting parameters?\n",
    "Once we had the basis set out, I had to then apply it to my actual dataset. I tried each of the solver methods at each regularization method with varying costs from 1 to .001. That way I got a wide set of what each different combination could result in. Once I ran each, I recorded the accuracy into a dataframe. "
   ]
  },
  {
   "cell_type": "code",
   "execution_count": 35,
   "metadata": {
    "scrolled": true
   },
   "outputs": [
    {
     "data": {
      "text/html": [
       "<div>\n",
       "<style scoped>\n",
       "    .dataframe tbody tr th:only-of-type {\n",
       "        vertical-align: middle;\n",
       "    }\n",
       "\n",
       "    .dataframe tbody tr th {\n",
       "        vertical-align: top;\n",
       "    }\n",
       "\n",
       "    .dataframe thead th {\n",
       "        text-align: right;\n",
       "    }\n",
       "</style>\n",
       "<table border=\"1\" class=\"dataframe\">\n",
       "  <thead>\n",
       "    <tr style=\"text-align: right;\">\n",
       "      <th></th>\n",
       "      <th>Cost</th>\n",
       "      <th>Regularization</th>\n",
       "      <th>Optimization</th>\n",
       "      <th>Accuracies</th>\n",
       "    </tr>\n",
       "  </thead>\n",
       "  <tbody>\n",
       "    <tr>\n",
       "      <th>0</th>\n",
       "      <td>0.100</td>\n",
       "      <td>l1</td>\n",
       "      <td>newton</td>\n",
       "      <td>0.910568</td>\n",
       "    </tr>\n",
       "    <tr>\n",
       "      <th>1</th>\n",
       "      <td>1.000</td>\n",
       "      <td>l1</td>\n",
       "      <td>newton</td>\n",
       "      <td>0.909460</td>\n",
       "    </tr>\n",
       "    <tr>\n",
       "      <th>2</th>\n",
       "      <td>0.010</td>\n",
       "      <td>l1</td>\n",
       "      <td>newton</td>\n",
       "      <td>0.910568</td>\n",
       "    </tr>\n",
       "    <tr>\n",
       "      <th>3</th>\n",
       "      <td>0.001</td>\n",
       "      <td>l1</td>\n",
       "      <td>newton</td>\n",
       "      <td>0.910752</td>\n",
       "    </tr>\n",
       "    <tr>\n",
       "      <th>4</th>\n",
       "      <td>0.100</td>\n",
       "      <td>l2</td>\n",
       "      <td>newton</td>\n",
       "      <td>0.910568</td>\n",
       "    </tr>\n",
       "    <tr>\n",
       "      <th>5</th>\n",
       "      <td>1.000</td>\n",
       "      <td>l2</td>\n",
       "      <td>newton</td>\n",
       "      <td>0.909368</td>\n",
       "    </tr>\n",
       "    <tr>\n",
       "      <th>6</th>\n",
       "      <td>0.010</td>\n",
       "      <td>l2</td>\n",
       "      <td>newton</td>\n",
       "      <td>0.910568</td>\n",
       "    </tr>\n",
       "    <tr>\n",
       "      <th>7</th>\n",
       "      <td>0.001</td>\n",
       "      <td>l2</td>\n",
       "      <td>newton</td>\n",
       "      <td>0.910752</td>\n",
       "    </tr>\n",
       "    <tr>\n",
       "      <th>8</th>\n",
       "      <td>0.100</td>\n",
       "      <td>none</td>\n",
       "      <td>newton</td>\n",
       "      <td>0.910568</td>\n",
       "    </tr>\n",
       "    <tr>\n",
       "      <th>9</th>\n",
       "      <td>1.000</td>\n",
       "      <td>none</td>\n",
       "      <td>newton</td>\n",
       "      <td>0.909368</td>\n",
       "    </tr>\n",
       "    <tr>\n",
       "      <th>10</th>\n",
       "      <td>0.010</td>\n",
       "      <td>none</td>\n",
       "      <td>newton</td>\n",
       "      <td>0.910568</td>\n",
       "    </tr>\n",
       "    <tr>\n",
       "      <th>11</th>\n",
       "      <td>0.001</td>\n",
       "      <td>none</td>\n",
       "      <td>newton</td>\n",
       "      <td>0.910752</td>\n",
       "    </tr>\n",
       "    <tr>\n",
       "      <th>12</th>\n",
       "      <td>0.100</td>\n",
       "      <td>l1l2</td>\n",
       "      <td>newton</td>\n",
       "      <td>0.910568</td>\n",
       "    </tr>\n",
       "    <tr>\n",
       "      <th>13</th>\n",
       "      <td>1.000</td>\n",
       "      <td>l1l2</td>\n",
       "      <td>newton</td>\n",
       "      <td>0.909460</td>\n",
       "    </tr>\n",
       "    <tr>\n",
       "      <th>14</th>\n",
       "      <td>0.010</td>\n",
       "      <td>l1l2</td>\n",
       "      <td>newton</td>\n",
       "      <td>0.910568</td>\n",
       "    </tr>\n",
       "    <tr>\n",
       "      <th>15</th>\n",
       "      <td>0.001</td>\n",
       "      <td>l1l2</td>\n",
       "      <td>newton</td>\n",
       "      <td>0.910752</td>\n",
       "    </tr>\n",
       "    <tr>\n",
       "      <th>16</th>\n",
       "      <td>0.100</td>\n",
       "      <td>l1</td>\n",
       "      <td>steepest</td>\n",
       "      <td>0.246516</td>\n",
       "    </tr>\n",
       "    <tr>\n",
       "      <th>17</th>\n",
       "      <td>1.000</td>\n",
       "      <td>l1</td>\n",
       "      <td>steepest</td>\n",
       "      <td>0.246516</td>\n",
       "    </tr>\n",
       "    <tr>\n",
       "      <th>18</th>\n",
       "      <td>0.010</td>\n",
       "      <td>l1</td>\n",
       "      <td>steepest</td>\n",
       "      <td>0.499031</td>\n",
       "    </tr>\n",
       "    <tr>\n",
       "      <th>19</th>\n",
       "      <td>0.001</td>\n",
       "      <td>l1</td>\n",
       "      <td>steepest</td>\n",
       "      <td>0.485464</td>\n",
       "    </tr>\n",
       "    <tr>\n",
       "      <th>20</th>\n",
       "      <td>0.100</td>\n",
       "      <td>l2</td>\n",
       "      <td>steepest</td>\n",
       "      <td>0.560591</td>\n",
       "    </tr>\n",
       "    <tr>\n",
       "      <th>21</th>\n",
       "      <td>1.000</td>\n",
       "      <td>l2</td>\n",
       "      <td>steepest</td>\n",
       "      <td>0.246516</td>\n",
       "    </tr>\n",
       "    <tr>\n",
       "      <th>22</th>\n",
       "      <td>0.010</td>\n",
       "      <td>l2</td>\n",
       "      <td>steepest</td>\n",
       "      <td>0.246516</td>\n",
       "    </tr>\n",
       "    <tr>\n",
       "      <th>23</th>\n",
       "      <td>0.001</td>\n",
       "      <td>l2</td>\n",
       "      <td>steepest</td>\n",
       "      <td>0.246516</td>\n",
       "    </tr>\n",
       "    <tr>\n",
       "      <th>24</th>\n",
       "      <td>0.100</td>\n",
       "      <td>none</td>\n",
       "      <td>steepest</td>\n",
       "      <td>0.246516</td>\n",
       "    </tr>\n",
       "    <tr>\n",
       "      <th>25</th>\n",
       "      <td>1.000</td>\n",
       "      <td>none</td>\n",
       "      <td>steepest</td>\n",
       "      <td>0.545916</td>\n",
       "    </tr>\n",
       "    <tr>\n",
       "      <th>26</th>\n",
       "      <td>0.010</td>\n",
       "      <td>none</td>\n",
       "      <td>steepest</td>\n",
       "      <td>0.539363</td>\n",
       "    </tr>\n",
       "    <tr>\n",
       "      <th>27</th>\n",
       "      <td>0.001</td>\n",
       "      <td>none</td>\n",
       "      <td>steepest</td>\n",
       "      <td>0.504753</td>\n",
       "    </tr>\n",
       "    <tr>\n",
       "      <th>28</th>\n",
       "      <td>0.100</td>\n",
       "      <td>l1l2</td>\n",
       "      <td>steepest</td>\n",
       "      <td>0.485187</td>\n",
       "    </tr>\n",
       "    <tr>\n",
       "      <th>29</th>\n",
       "      <td>1.000</td>\n",
       "      <td>l1l2</td>\n",
       "      <td>steepest</td>\n",
       "      <td>0.485187</td>\n",
       "    </tr>\n",
       "    <tr>\n",
       "      <th>30</th>\n",
       "      <td>0.010</td>\n",
       "      <td>l1l2</td>\n",
       "      <td>steepest</td>\n",
       "      <td>0.246516</td>\n",
       "    </tr>\n",
       "    <tr>\n",
       "      <th>31</th>\n",
       "      <td>0.001</td>\n",
       "      <td>l1l2</td>\n",
       "      <td>steepest</td>\n",
       "      <td>0.246516</td>\n",
       "    </tr>\n",
       "    <tr>\n",
       "      <th>32</th>\n",
       "      <td>0.100</td>\n",
       "      <td>l1</td>\n",
       "      <td>stochastic</td>\n",
       "      <td>0.246516</td>\n",
       "    </tr>\n",
       "    <tr>\n",
       "      <th>33</th>\n",
       "      <td>1.000</td>\n",
       "      <td>l1</td>\n",
       "      <td>stochastic</td>\n",
       "      <td>0.268297</td>\n",
       "    </tr>\n",
       "    <tr>\n",
       "      <th>34</th>\n",
       "      <td>0.010</td>\n",
       "      <td>l1</td>\n",
       "      <td>stochastic</td>\n",
       "      <td>0.228426</td>\n",
       "    </tr>\n",
       "    <tr>\n",
       "      <th>35</th>\n",
       "      <td>0.001</td>\n",
       "      <td>l1</td>\n",
       "      <td>stochastic</td>\n",
       "      <td>0.226119</td>\n",
       "    </tr>\n",
       "    <tr>\n",
       "      <th>36</th>\n",
       "      <td>0.100</td>\n",
       "      <td>l2</td>\n",
       "      <td>stochastic</td>\n",
       "      <td>0.246516</td>\n",
       "    </tr>\n",
       "    <tr>\n",
       "      <th>37</th>\n",
       "      <td>1.000</td>\n",
       "      <td>l2</td>\n",
       "      <td>stochastic</td>\n",
       "      <td>0.246516</td>\n",
       "    </tr>\n",
       "    <tr>\n",
       "      <th>38</th>\n",
       "      <td>0.010</td>\n",
       "      <td>l2</td>\n",
       "      <td>stochastic</td>\n",
       "      <td>0.275588</td>\n",
       "    </tr>\n",
       "    <tr>\n",
       "      <th>39</th>\n",
       "      <td>0.001</td>\n",
       "      <td>l2</td>\n",
       "      <td>stochastic</td>\n",
       "      <td>0.246516</td>\n",
       "    </tr>\n",
       "    <tr>\n",
       "      <th>40</th>\n",
       "      <td>0.100</td>\n",
       "      <td>none</td>\n",
       "      <td>stochastic</td>\n",
       "      <td>0.246516</td>\n",
       "    </tr>\n",
       "    <tr>\n",
       "      <th>41</th>\n",
       "      <td>1.000</td>\n",
       "      <td>none</td>\n",
       "      <td>stochastic</td>\n",
       "      <td>0.485187</td>\n",
       "    </tr>\n",
       "    <tr>\n",
       "      <th>42</th>\n",
       "      <td>0.010</td>\n",
       "      <td>none</td>\n",
       "      <td>stochastic</td>\n",
       "      <td>0.246516</td>\n",
       "    </tr>\n",
       "    <tr>\n",
       "      <th>43</th>\n",
       "      <td>0.001</td>\n",
       "      <td>none</td>\n",
       "      <td>stochastic</td>\n",
       "      <td>0.246516</td>\n",
       "    </tr>\n",
       "    <tr>\n",
       "      <th>44</th>\n",
       "      <td>0.100</td>\n",
       "      <td>l1l2</td>\n",
       "      <td>stochastic</td>\n",
       "      <td>0.246516</td>\n",
       "    </tr>\n",
       "    <tr>\n",
       "      <th>45</th>\n",
       "      <td>1.000</td>\n",
       "      <td>l1l2</td>\n",
       "      <td>stochastic</td>\n",
       "      <td>0.478634</td>\n",
       "    </tr>\n",
       "    <tr>\n",
       "      <th>46</th>\n",
       "      <td>0.010</td>\n",
       "      <td>l1l2</td>\n",
       "      <td>stochastic</td>\n",
       "      <td>0.485187</td>\n",
       "    </tr>\n",
       "    <tr>\n",
       "      <th>47</th>\n",
       "      <td>0.001</td>\n",
       "      <td>l1l2</td>\n",
       "      <td>stochastic</td>\n",
       "      <td>0.485187</td>\n",
       "    </tr>\n",
       "  </tbody>\n",
       "</table>\n",
       "</div>"
      ],
      "text/plain": [
       "     Cost Regularization Optimization  Accuracies\n",
       "0   0.100             l1       newton    0.910568\n",
       "1   1.000             l1       newton    0.909460\n",
       "2   0.010             l1       newton    0.910568\n",
       "3   0.001             l1       newton    0.910752\n",
       "4   0.100             l2       newton    0.910568\n",
       "5   1.000             l2       newton    0.909368\n",
       "6   0.010             l2       newton    0.910568\n",
       "7   0.001             l2       newton    0.910752\n",
       "8   0.100           none       newton    0.910568\n",
       "9   1.000           none       newton    0.909368\n",
       "10  0.010           none       newton    0.910568\n",
       "11  0.001           none       newton    0.910752\n",
       "12  0.100           l1l2       newton    0.910568\n",
       "13  1.000           l1l2       newton    0.909460\n",
       "14  0.010           l1l2       newton    0.910568\n",
       "15  0.001           l1l2       newton    0.910752\n",
       "16  0.100             l1     steepest    0.246516\n",
       "17  1.000             l1     steepest    0.246516\n",
       "18  0.010             l1     steepest    0.499031\n",
       "19  0.001             l1     steepest    0.485464\n",
       "20  0.100             l2     steepest    0.560591\n",
       "21  1.000             l2     steepest    0.246516\n",
       "22  0.010             l2     steepest    0.246516\n",
       "23  0.001             l2     steepest    0.246516\n",
       "24  0.100           none     steepest    0.246516\n",
       "25  1.000           none     steepest    0.545916\n",
       "26  0.010           none     steepest    0.539363\n",
       "27  0.001           none     steepest    0.504753\n",
       "28  0.100           l1l2     steepest    0.485187\n",
       "29  1.000           l1l2     steepest    0.485187\n",
       "30  0.010           l1l2     steepest    0.246516\n",
       "31  0.001           l1l2     steepest    0.246516\n",
       "32  0.100             l1   stochastic    0.246516\n",
       "33  1.000             l1   stochastic    0.268297\n",
       "34  0.010             l1   stochastic    0.228426\n",
       "35  0.001             l1   stochastic    0.226119\n",
       "36  0.100             l2   stochastic    0.246516\n",
       "37  1.000             l2   stochastic    0.246516\n",
       "38  0.010             l2   stochastic    0.275588\n",
       "39  0.001             l2   stochastic    0.246516\n",
       "40  0.100           none   stochastic    0.246516\n",
       "41  1.000           none   stochastic    0.485187\n",
       "42  0.010           none   stochastic    0.246516\n",
       "43  0.001           none   stochastic    0.246516\n",
       "44  0.100           l1l2   stochastic    0.246516\n",
       "45  1.000           l1l2   stochastic    0.478634\n",
       "46  0.010           l1l2   stochastic    0.485187\n",
       "47  0.001           l1l2   stochastic    0.485187"
      ]
     },
     "execution_count": 35,
     "metadata": {},
     "output_type": "execute_result"
    }
   ],
   "source": [
    "accuracies = pd.DataFrame(columns =['Cost', 'Regularization', 'Optimization', 'Accuracies'])\n",
    "c_values = {.001, .01, .1, 1}\n",
    "reg_values = {'none', 'l1', 'l2', 'l1l2'}\n",
    "opt_values = {'steepest', 'stochastic', 'newton'}\n",
    "\n",
    "for optimization in opt_values :\n",
    "    for regularization in reg_values : \n",
    "        for cost in c_values : \n",
    "            # steepest and newton calcuate gradient across all samples, so they have lower values\n",
    "            # steepest uses calculations so it does not need as many iterations to get accuracy \n",
    "            # Stochastic only runs on one sample so they need a larger number\n",
    "            if optimization == 'steepest' :\n",
    "                iters = 500\n",
    "            elif optimization == 'stochastic' :\n",
    "                iters = 1000\n",
    "            elif optimization == 'newton' :\n",
    "                iters = 5\n",
    "            lr = LogisticRegression(iterations=iters, optimization=optimization, c = cost, reg=regularization)\n",
    "            lr.fit(X_train,y_train)\n",
    "            yhat = lr.predict(X_test)\n",
    "            accuracies.loc[len(accuracies)] = [cost, regularization, optimization, accuracy_score(y_test,yhat)]\n",
    "accuracies"
   ]
  },
  {
   "cell_type": "markdown",
   "metadata": {},
   "source": [
    "Once I had each accuracy, I compared the different categories against each other to see which options proved to be the most effective. "
   ]
  },
  {
   "cell_type": "markdown",
   "metadata": {},
   "source": [
    "With each type of solver, Newton performed significantly above the other two methods. Steepest performed more consistently higher that stochastic, but there both were able to perform at equally high accuracies. "
   ]
  },
  {
   "cell_type": "code",
   "execution_count": 36,
   "metadata": {
    "scrolled": true
   },
   "outputs": [
    {
     "data": {
      "text/plain": [
       "<matplotlib.axes._subplots.AxesSubplot at 0x2aaab623edd8>"
      ]
     },
     "execution_count": 36,
     "metadata": {},
     "output_type": "execute_result"
    },
    {
     "data": {
      "image/png": "[encoded data removed]",
      "text/plain": [
       "<Figure size 432x288 with 1 Axes>"
      ]
     },
     "metadata": {
      "needs_background": "light"
     },
     "output_type": "display_data"
    }
   ],
   "source": [
    "#Graph based on Optimization and Accuracies\n",
    "sns.boxplot(x = 'Optimization', y = 'Accuracies', data=accuracies, showmeans=True)"
   ]
  },
  {
   "cell_type": "markdown",
   "metadata": {},
   "source": [
    "The costs tended to cause more effect depending on the type used in conjunction with it. Overall they tended to result in the same average accuracy, but .1 was able to reach slightly higher consistently. "
   ]
  },
  {
   "cell_type": "code",
   "execution_count": 37,
   "metadata": {
    "scrolled": true
   },
   "outputs": [
    {
     "data": {
      "text/plain": [
       "<matplotlib.axes._subplots.AxesSubplot at 0x2aab1dfe6a58>"
      ]
     },
     "execution_count": 37,
     "metadata": {},
     "output_type": "execute_result"
    },
    {
     "data": {
      "image/png": "[encoded data removed]",
      "text/plain": [
       "<Figure size 432x288 with 1 Axes>"
      ]
     },
     "metadata": {
      "needs_background": "light"
     },
     "output_type": "display_data"
    }
   ],
   "source": [
    "#Graph based on Regularization and Accuracies\n",
    "sns.boxplot(x = 'Cost', y = 'Accuracies', data=accuracies, showmeans=True)"
   ]
  },
  {
   "cell_type": "markdown",
   "metadata": {},
   "source": [
    "Regularization followed the same tend as cost because they depended more on the solver being used with it than the actual value itself. The averages maintained the same, but l2 regularization reached lower levels of accuracy than the others. "
   ]
  },
  {
   "cell_type": "code",
   "execution_count": 38,
   "metadata": {
    "scrolled": true
   },
   "outputs": [
    {
     "data": {
      "text/plain": [
       "<matplotlib.axes._subplots.AxesSubplot at 0x2aab1ddc5390>"
      ]
     },
     "execution_count": 38,
     "metadata": {},
     "output_type": "execute_result"
    },
    {
     "data": {
      "image/png": "[encoded data removed]",
      "text/plain": [
       "<Figure size 432x288 with 1 Axes>"
      ]
     },
     "metadata": {
      "needs_background": "light"
     },
     "output_type": "display_data"
    }
   ],
   "source": [
    "#Graph based on Regularization and Accuracies\n",
    "sns.boxplot(x = 'Regularization', y = 'Accuracies', data=accuracies, showmeans=True)"
   ]
  },
  {
   "cell_type": "markdown",
   "metadata": {},
   "source": [
    "### Analyze Performance\n",
    "In order to compare our custom algorithm to sklearn's logistic regression model, we needed to know what was the optimal model we should run ours against. So I took the accuracies we had previously recorded, and saved the highest one as the one we would test against. Using the same principles as before, we ran our highest accuracy and recorded the time it took. We then further gathered the number of false negatives and false positives to compare against sklearn's. We then repeated the process with sklearn. "
   ]
  },
  {
   "cell_type": "code",
   "execution_count": 39,
   "metadata": {
    "scrolled": true
   },
   "outputs": [],
   "source": [
    "sorted_accuracies = accuracies.sort_values(by='Accuracies')[::-1]\n",
    "sorted_accuracies = sorted_accuracies.reset_index()"
   ]
  },
  {
   "cell_type": "markdown",
   "metadata": {},
   "source": [
    "We can see that from our below tests, our custom solver ran with a time of 3 mins and an accuracy of 91%. Alternatively, the sklearn ran with a time of 2.9 seconds and an accuracy of 85%. While our custom algorithm may have held a higher accuracy, it took a significantly longer period of time to run. The amount of time sacraficed to use our solver over sklearn was roughly 300 percent longer, whereas the amount of accuracy sacraficed was only 10 percent. The accuracy of sklearn still remains within our successfulness margin, so it appears to be the better solver. "
   ]
  },
  {
   "cell_type": "code",
   "execution_count": 60,
   "metadata": {},
   "outputs": [
    {
     "name": "stdout",
     "output_type": "stream",
     "text": [
      "Accuracy of:  0.9107521919704661\n",
      "CPU times: user 3min 29s, sys: 46 s, total: 4min 15s\n",
      "Wall time: 16.8 s\n"
     ]
    }
   ],
   "source": [
    "%%time\n",
    "#Get the time and accuracy for our best option\n",
    "if sorted_accuracies['Optimization'][0] == 'steepest' :\n",
    "    iters = 500\n",
    "elif sorted_accuracies['Optimization'][0] == 'stochastic' :\n",
    "    iters = 1000\n",
    "elif sorted_accuracies['Optimization'][0] == 'newton' :\n",
    "    iters = 5\n",
    "                \n",
    "lr = LogisticRegression(iterations=iters, optimization=sorted_accuracies['Optimization'][0], c = sorted_accuracies['Cost'][0], reg=sorted_accuracies['Regularization'][0])\n",
    "lr.fit(X_train,y_train)\n",
    "yhat = lr.predict(X_test)\n",
    "print('Accuracy of: ', accuracy_score(y_test,yhat))"
   ]
  },
  {
   "cell_type": "code",
   "execution_count": 66,
   "metadata": {},
   "outputs": [
    {
     "name": "stdout",
     "output_type": "stream",
     "text": [
      "[[[7761  403]\n",
      "  [ 385 2286]]\n",
      "\n",
      " [[4750  828]\n",
      "  [ 765 4492]]\n",
      "\n",
      " [[7563  365]\n",
      "  [ 446 2461]]]\n",
      "Predicted   1.0   2.0   3.0\n",
      "Actual                     \n",
      "1.0        2286   384     1\n",
      "2.0         401  4492   364\n",
      "3.0           2   444  2461\n"
     ]
    }
   ],
   "source": [
    "#Get the number of TP and TN in our test\n",
    "from sklearn.metrics import multilabel_confusion_matrix\n",
    "\n",
    "coff_matrix_own_simple = multilabel_confusion_matrix(y_test, yhat)\n",
    "coff_matrix_own = pd.crosstab(y_test, yhat, rownames=['Actual'], colnames=['Predicted'])\n",
    "print(coff_matrix_own_simple)\n",
    "print(coff_matrix_own)"
   ]
  },
  {
   "cell_type": "code",
   "execution_count": 67,
   "metadata": {},
   "outputs": [
    {
     "name": "stdout",
     "output_type": "stream",
     "text": [
      "Accuracy of:  0.8526995846792801\n",
      "CPU times: user 986 ms, sys: 167 ms, total: 1.15 s\n",
      "Wall time: 861 ms\n"
     ]
    }
   ],
   "source": [
    "%%time\n",
    "#Get time and accuracy of sklearn\n",
    "lr_sk = SKLogisticRegression(solver='liblinear') # all params default\n",
    "\n",
    "lr_sk.fit(X_train,y_train)\n",
    "yhat = lr_sk.predict(X_test)\n",
    "print('Accuracy of: ',accuracy_score(y_test,yhat))"
   ]
  },
  {
   "cell_type": "code",
   "execution_count": 68,
   "metadata": {},
   "outputs": [
    {
     "name": "stdout",
     "output_type": "stream",
     "text": [
      "[[[7761  403]\n",
      "  [ 385 2286]]\n",
      "\n",
      " [[4750  828]\n",
      "  [ 765 4492]]\n",
      "\n",
      " [[7563  365]\n",
      "  [ 446 2461]]]\n",
      "Predicted   1.0   2.0   3.0\n",
      "Actual                     \n",
      "1.0        2286   384     1\n",
      "2.0         401  4492   364\n",
      "3.0           2   444  2461\n"
     ]
    }
   ],
   "source": [
    "#Get the number of TP and TN in skylearn\n",
    "coff_matrix_sklearn_simple = multilabel_confusion_matrix(y_test, yhat)\n",
    "coff_matrix_sklearn = pd.crosstab(y_test, yhat, rownames=['Actual'], colnames=['Predicted'])\n",
    "print(coff_matrix_sklearn_simple)\n",
    "print(coff_matrix_sklearn)"
   ]
  },
  {
   "cell_type": "markdown",
   "metadata": {},
   "source": [
    "The final factor to consider is which kind of false reports are being prioritized. We prefered to operate under false negatives rather than false positives, so as to avoid false security within our clients. As we can see below, our custom algorithm ____. Alternatively, sklearn _____. "
   ]
  },
  {
   "cell_type": "code",
   "execution_count": 128,
   "metadata": {},
   "outputs": [],
   "source": [
    "#create graphable dataframe\n",
    "total_true_positives_own = 0\n",
    "total_false_positives_own = 0\n",
    "total_true_negatives_own = 0\n",
    "total_false_negatives_own = 0\n",
    "\n",
    "for i in range(3) :\n",
    "    total_true_positives_own += coff_matrix_own_simple[i][0][0]\n",
    "    total_false_positives_own += coff_matrix_own_simple[i][1][0]\n",
    "    total_true_negatives_own += coff_matrix_own_simple[i][1][1]\n",
    "    total_false_negatives_own += coff_matrix_own_simple[i][0][1]\n",
    "\n",
    "average_coff_own = pd.DataFrame({'Positives':[total_true_positives/3, total_false_positives/3], 'Negatives':[total_true_negatives/3, total_false_negatives/3]})\n",
    "\n",
    "total_true_positives_sklearn = 0\n",
    "total_false_positives_sklearn = 0\n",
    "total_true_negatives_sklearn = 0\n",
    "total_false_negatives_sklearn = 0\n",
    "\n",
    "for i in range(3) :\n",
    "    total_true_positives_sklearn += coff_matrix_sklearn_simple[i][0][0]\n",
    "    total_false_positives_sklearn += coff_matrix_sklearn_simple[i][1][0]\n",
    "    total_true_negatives_sklearn += coff_matrix_sklearn_simple[i][1][1]\n",
    "    total_false_negatives_sklearn += coff_matrix_sklearn_simple[i][0][1]"
   ]
  },
  {
   "cell_type": "markdown",
   "metadata": {},
   "source": [
    "As we can see from our below confusion matrix, both methods tend to carry equally weighted classifications. Therefore there tends to be relatively similar rations of categories being predicted incorrectly. "
   ]
  },
  {
   "cell_type": "code",
   "execution_count": 129,
   "metadata": {},
   "outputs": [
    {
     "data": {
      "image/png": "[encoded data removed]",
      "text/plain": [
       "<Figure size 432x288 with 4 Axes>"
      ]
     },
     "metadata": {
      "needs_background": "light"
     },
     "output_type": "display_data"
    }
   ],
   "source": [
    "#Graph our confusion matrixes\n",
    "fig, (ax1, ax2) = plt.subplots(1, 2)\n",
    "plt.tight_layout(pad=5.0)\n",
    "sns.heatmap(coff_matrix_sklearn, ax=ax1)\n",
    "sns.heatmap(coff_matrix_own, ax=ax2)\n",
    "plt.show()"
   ]
  },
  {
   "cell_type": "markdown",
   "metadata": {},
   "source": [
    "Finally, as we can see from the below pie charts. There tend to be very similar breakdowns of true positives, true negatives, false postives, and false negatives. Therefore, it can be concluded that both sklearn and our custom algorithm tend to err in the same general ways, making them relatively equal. Unfortunately, the data is pretty evenly split in both accounts toward false negatives and false positives, which we would have prefered to be more skewed towards false negatives. However, weighting caused our data to become less accurate, so this method remains the best."
   ]
  },
  {
   "cell_type": "code",
   "execution_count": 152,
   "metadata": {
    "scrolled": true
   },
   "outputs": [
    {
     "data": {
      "image/png": "[encoded data removed]",
      "text/plain": [
       "<Figure size 1440x360 with 3 Axes>"
      ]
     },
     "metadata": {},
     "output_type": "display_data"
    }
   ],
   "source": [
    "#Graph custom confusion matrix as pie charts\n",
    "from matplotlib.gridspec import GridSpec\n",
    "fig = plt.figure(figsize=(20, 5))\n",
    "gs = GridSpec(1, 3, figure=fig)\n",
    "\n",
    "axs = []\n",
    "axs.append( fig.add_subplot(gs[0]) )\n",
    "axs.append( fig.add_subplot(gs[1]) )\n",
    "axs.append( fig.add_subplot(gs[2]) )\n",
    "\n",
    "\n",
    "#Positives for own matrix\n",
    "list_positives = [total_true_positives_own/3, total_false_positives_own/3]\n",
    "average_coff_own = pd.DataFrame(list_temp_positives, columns = ['Confusion_Matrix'])\n",
    "axs[0].pie(average_coff_own['Confusion_Matrix'], labels=['True Positives', 'False Positives'])\n",
    "\n",
    "#negatives for own matrix\n",
    "list_negatives = [total_true_negatives_own/3, total_false_positives_own/3]\n",
    "average_coff_own = pd.DataFrame(list_negatives, columns = ['Confusion_Matrix'])\n",
    "axs[1].pie(average_coff_own['Confusion_Matrix'], labels=['True Negatives', 'False Negatives'])\n",
    "\n",
    "#falses for own matrix\n",
    "list_false = [total_false_positives_own/3, total_false_negatives_own/3]\n",
    "average_coff_own = pd.DataFrame(list_false, columns = ['Confusion_Matrix'])\n",
    "axs[2].pie(average_coff_own['Confusion_Matrix'], labels=['False Positives', 'False Negatives'])\n",
    "\n",
    "plt.show()"
   ]
  },
  {
   "cell_type": "code",
   "execution_count": 153,
   "metadata": {},
   "outputs": [
    {
     "data": {
      "image/png": "[encoded data removed]",
      "text/plain": [
       "<Figure size 1440x360 with 3 Axes>"
      ]
     },
     "metadata": {},
     "output_type": "display_data"
    }
   ],
   "source": [
    "#Graph sklearn confusion matrix as pie charts\n",
    "from matplotlib.gridspec import GridSpec\n",
    "fig = plt.figure(figsize=(20, 5))\n",
    "gs = GridSpec(1, 3, figure=fig)\n",
    "\n",
    "axs = []\n",
    "axs.append( fig.add_subplot(gs[0]) )\n",
    "axs.append( fig.add_subplot(gs[1]) )\n",
    "axs.append( fig.add_subplot(gs[2]) )\n",
    "\n",
    "\n",
    "#Positives for sklearn matrix\n",
    "list_positives = [total_true_positives_sklearn/3, total_false_positives_sklearn/3]\n",
    "average_coff_sklearn = pd.DataFrame(list_temp_positives, columns = ['Confusion_Matrix'])\n",
    "axs[0].pie(average_coff_sklearn['Confusion_Matrix'], labels=['True Positives', 'False Positives'])\n",
    "\n",
    "#negatives for sklearn matrix\n",
    "list_negatives = [total_true_negatives_sklearn/3, total_false_positives_sklearn/3]\n",
    "average_coff_sklearn = pd.DataFrame(list_negatives, columns = ['Confusion_Matrix'])\n",
    "axs[1].pie(average_coff_sklearn['Confusion_Matrix'], labels=['True Negatives', 'False Negatives'])\n",
    "\n",
    "#falses for sklearn matrix\n",
    "list_false = [total_false_positives_sklearn/3, total_false_negatives_sklearn/3]\n",
    "average_coff_sklearn = pd.DataFrame(list_false, columns = ['Confusion_Matrix'])\n",
    "axs[2].pie(average_coff_sklearn['Confusion_Matrix'], labels=['False Positives', 'False Negatives'])\n",
    "\n",
    "plt.show()"
   ]
  },
  {
   "cell_type": "markdown",
   "metadata": {},
   "source": [
    "## Deployment"
   ]
  },
  {
   "cell_type": "markdown",
   "metadata": {},
   "source": [
    "For accuracy's sake, the newton's method custom algorithm creates the most accurate run. However, it also takes the most time. While our smaller dataset runs fine with the longer method, any fairly large dataset would take hours to be classified using Newton's method. So ultimately that much time is not useful to be spent. It would take far to long to be able to run credit scores and determine an outcome. \n",
    "\n",
    "\n",
    "Speedwise, sklearn runs roughly as efficiently as the custom stochastic method, and they are both speedy enough to handle large datasets. However, the amount of accuracy lost with stochastic is great enough that the algorithm would not meet our successful goal. The accuracy would lead us to leading more customers astray than benefitting them. \n",
    "\n",
    "To ensure the most efficient and timely program, without sacraficing accuracy, sklearn provides the best option to be able to correctly classify our credit scores. While the accuracy it not fully there, it is able to be run in a more time and memory efficent manner, which makes it much more realistically usable. The major drawback being that false positives and false negatives tend to be equally weighted, which does not meet our success criteria. However, the amounts are still low enough it is not a terrible detriment. "
   ]
  }
 ],
 "metadata": {
  "kernelspec": {
   "display_name": "Python 3",
   "language": "python",
   "name": "python3"
  },
  "language_info": {
   "codemirror_mode": {
    "name": "ipython",
    "version": 3
   },
   "file_extension": ".py",
   "mimetype": "text/x-python",
   "name": "python",
   "nbconvert_exporter": "python",
   "pygments_lexer": "ipython3",
   "version": "3.6.7"
  }
 },
 "nbformat": 4,
 "nbformat_minor": 5
}
